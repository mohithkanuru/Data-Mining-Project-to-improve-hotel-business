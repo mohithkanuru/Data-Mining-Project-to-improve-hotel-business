{
 "cells": [
  {
   "cell_type": "code",
   "execution_count": 2,
   "metadata": {},
   "outputs": [
    {
     "name": "stdout",
     "output_type": "stream",
     "text": [
      "Sample Reviews Data:\n",
      "                                             ratings  \\\n",
      "0  {'service': 5.0, 'cleanliness': 5.0, 'overall'...   \n",
      "1  {'service': 5.0, 'cleanliness': 5.0, 'overall'...   \n",
      "\n",
      "                                       title  \\\n",
      "0  “Truly is \"Jewel of the Upper Wets Side\"”   \n",
      "1                  “My home away from home!”   \n",
      "\n",
      "                                                text  \\\n",
      "0  Stayed in a king suite for 11 nights and yes i...   \n",
      "1  On every visit to NYC, the Hotel Beacon is the...   \n",
      "\n",
      "                                              author    date_stayed  \\\n",
      "0  {'username': 'Papa_Panda', 'num_cities': 22, '...  December 2012   \n",
      "1  {'username': 'Maureen V', 'num_reviews': 2, 'n...  December 2012   \n",
      "\n",
      "   offering_id  num_helpful_votes               date         id  via_mobile  \n",
      "0        93338                  0  December 17, 2012  147643103       False  \n",
      "1        93338                  0  December 17, 2012  147639004       False  \n",
      "\n",
      "Sample Offerings Data:\n",
      "   hotel_class  region_id                                                url  \\\n",
      "0          4.0      60763  http://www.tripadvisor.com/Hotel_Review-g60763...   \n",
      "\n",
      "  phone details                                            address   type  \\\n",
      "0          None  {'region': 'NY', 'street-address': '147 West 4...  hotel   \n",
      "\n",
      "       id                           name  \n",
      "0  113317  Casablanca Hotel Times Square  \n"
     ]
    }
   ],
   "source": [
    "import pandas as pd\n",
    "import json\n",
    "\n",
    "# Load and display sample data from reviews.txt\n",
    "with open(\"review.txt\", \"r\", encoding=\"utf-8\") as f:\n",
    "    reviews_sample = [json.loads(next(f)) for _ in range(2)]  # Load first 2 entries\n",
    "\n",
    "# Load and display sample data from offering.txt\n",
    "with open(\"offering.txt\", \"r\", encoding=\"utf-8\") as f:\n",
    "    offerings_sample = [json.loads(next(f)) for _ in range(1)]  # Load first entry\n",
    "\n",
    "# Convert to DataFrame for better readability\n",
    "reviews_df = pd.DataFrame(reviews_sample)\n",
    "offerings_df = pd.DataFrame(offerings_sample)\n",
    "\n",
    "# Display the data in a neat format\n",
    "print(\"Sample Reviews Data:\")\n",
    "print(reviews_df.head())\n",
    "print(\"\\nSample Offerings Data:\")\n",
    "print(offerings_df.head())\n"
   ]
  },
  {
   "cell_type": "code",
   "execution_count": null,
   "metadata": {},
   "outputs": [],
   "source": []
  }
 ],
 "metadata": {
  "kernelspec": {
   "display_name": "Python 3",
   "language": "python",
   "name": "python3"
  },
  "language_info": {
   "codemirror_mode": {
    "name": "ipython",
    "version": 3
   },
   "file_extension": ".py",
   "mimetype": "text/x-python",
   "name": "python",
   "nbconvert_exporter": "python",
   "pygments_lexer": "ipython3",
   "version": "3.9.6"
  }
 },
 "nbformat": 4,
 "nbformat_minor": 2
}
