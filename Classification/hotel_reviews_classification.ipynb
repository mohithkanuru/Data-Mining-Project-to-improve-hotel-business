{
 "cells": [
  {
   "cell_type": "markdown",
   "metadata": {},
   "source": [
    "### 📝 **Important Note Before Running This Notebook**\n",
    "\n",
    "To ensure smooth execution of this notebook, please follow the setup instructions below **before running any cells**:\n",
    "\n",
    "---\n",
    "\n",
    "#### 📁 **Folder Structure**\n",
    "\n",
    "Make sure the following folder structure exists **in the same directory as the notebook file** (`hotel_reviews_classification.ipynb`):\n",
    "\n",
    "<pre>\n",
    "hotel_review/\n",
    "├── original_dataset/\n",
    "├── processed_dataset/\n",
    "├── rating_classification/\n",
    "├── sentiment_analysis/\n",
    "└── hotel_reviews_classification.ipynb\n",
    "</pre>\n",
    "\n",
    "---\n",
    "\n",
    "#### 📥 **Download Required Files**\n",
    "\n",
    "Download the original dataset files from the https://www.cs.cmu.edu/~jiweil/html/hotel-review.html and place them in the `original_dataset/` folder:\n",
    "\n",
    "- `review.txt`\n",
    "- `offering.txt`\n",
    "\n",
    "> 📌 *Note* : This dataset consists of 878561 reviews (1.3GB) from 4333 hotels crawled from TripAdvisor. Pay attention that some of the reviews are written in French."
   ]
  },
  {
   "cell_type": "markdown",
   "metadata": {},
   "source": [
    "# Data Pre Processing"
   ]
  },
  {
   "cell_type": "code",
   "execution_count": null,
   "metadata": {},
   "outputs": [],
   "source": [
    "from langdetect import detect\n",
    "from tqdm import tqdm\n",
    "import random\n",
    "\n",
    "input_file = \"original_dataset/review.txt\"\n",
    "output_file = \"processed_dataset/reviews_english.txt\"\n",
    "\n",
    "non_french_reviews = []\n",
    "french_samples = []"
   ]
  },
  {
   "cell_type": "code",
   "execution_count": null,
   "metadata": {},
   "outputs": [],
   "source": [
    "from langdetect import detect\n",
    "from tqdm import tqdm\n",
    "import multiprocessing as mp\n",
    "\n",
    "input_file = \"original_dataset/review.txt\"\n",
    "output_file = \"processed_dataset/reviews_english.txt\"\n",
    "num_samples = 3  # Number of French samples to show\n",
    "\n",
    "with open(input_file, \"r\", encoding=\"utf-8\") as f:\n",
    "    lines = [line.strip() for line in f.readlines()]\n",
    "\n",
    "def detect_lang(line):\n",
    "    try:\n",
    "        lang = detect(line)\n",
    "    except:\n",
    "        lang = \"unknown\"\n",
    "    return (line, lang)\n",
    "\n",
    "# multiprocessing for speed\n",
    "with mp.Pool(mp.cpu_count()) as pool:\n",
    "    results = list(tqdm(pool.imap(detect_lang, lines), total=len(lines), desc=\"Detecting languages\"))\n",
    "\n",
    "non_french_reviews = [line for line, lang in results if lang != \"fr\"]\n",
    "french_samples = [line for line, lang in results if lang == \"fr\"][:num_samples]\n",
    "\n",
    "# Save English reviews\n",
    "with open(output_file, \"w\", encoding=\"utf-8\") as f:\n",
    "    for line in non_french_reviews:\n",
    "        f.write(line + \"\\n\")\n",
    "\n",
    "# Show French examples\n",
    "print(\"\\n🧹 Removed the following French reviews:\")\n",
    "for i, sample in enumerate(french_samples, 1):\n",
    "    print(f\"\\nFrench Sample {i}:\\n{sample}\")\n",
    "\n",
    "print(f\"\\n✅ Cleaned reviews saved to: {output_file}\")"
   ]
  },
  {
   "cell_type": "code",
   "execution_count": null,
   "metadata": {},
   "outputs": [
    {
     "name": "stdout",
     "output_type": "stream",
     "text": [
      "📄 Total reviews in original file      : 878561\n",
      "✅ English reviews after cleanup      : 854341\n",
      "🗑️  French reviews removed             : 24220\n"
     ]
    }
   ],
   "source": [
    "original_file = \"original_dataset/review.txt\"\n",
    "cleaned_file = \"processed_dataset/reviews_english.txt\"\n",
    "\n",
    "with open(original_file, \"r\", encoding=\"utf-8\") as f:\n",
    "    total_reviews = sum(1 for _ in f)\n",
    "\n",
    "with open(cleaned_file, \"r\", encoding=\"utf-8\") as f:\n",
    "    english_reviews = sum(1 for _ in f)\n",
    "\n",
    "french_removed = total_reviews - english_reviews\n",
    "\n",
    "print(f\"📄 Total reviews in original file      : {total_reviews}\")\n",
    "print(f\"✅ English reviews after cleanup      : {english_reviews}\")\n",
    "print(f\"🗑️  French reviews removed             : {french_removed}\")"
   ]
  },
  {
   "cell_type": "code",
   "execution_count": null,
   "metadata": {},
   "outputs": [
    {
     "name": "stderr",
     "output_type": "stream",
     "text": [
      "Loading offerings: 4333it [00:00, 451189.65it/s]\n"
     ]
    },
    {
     "name": "stdout",
     "output_type": "stream",
     "text": [
      "✅ Saved 'offering.csv' with shape: (4333, 11)\n"
     ]
    },
    {
     "name": "stderr",
     "output_type": "stream",
     "text": [
      "Loading reviews: 854341it [00:07, 107498.99it/s]\n"
     ]
    },
    {
     "name": "stdout",
     "output_type": "stream",
     "text": [
      "✅ Saved 'reviews_english.csv' with shape: (854341, 24)\n"
     ]
    }
   ],
   "source": [
    "import json\n",
    "import pandas as pd\n",
    "from pathlib import Path\n",
    "from tqdm import tqdm\n",
    "\n",
    "with open(\"offering.txt\", \"r\", encoding=\"utf-8\") as f:\n",
    "    offerings = [json.loads(line) for line in tqdm(f, desc=\"Loading offerings\")]\n",
    "\n",
    "# Flatten offerings\n",
    "flattened_offerings = []\n",
    "for entry in offerings:\n",
    "    flat = {\n",
    "        \"hotel_id\": entry.get(\"id\"),\n",
    "        \"name\": entry.get(\"name\"),\n",
    "        \"hotel_class\": entry.get(\"hotel_class\"),\n",
    "        \"region_id\": entry.get(\"region_id\"),\n",
    "        \"url\": entry.get(\"url\"),\n",
    "        \"phone\": entry.get(\"phone\"),\n",
    "        \"type\": entry.get(\"type\"),\n",
    "        \"address_region\": entry.get(\"address\", {}).get(\"region\"),\n",
    "        \"address_street\": entry.get(\"address\", {}).get(\"street-address\"),\n",
    "        \"address_postal_code\": entry.get(\"address\", {}).get(\"postal-code\"),\n",
    "        \"address_locality\": entry.get(\"address\", {}).get(\"locality\"),\n",
    "    }\n",
    "    flattened_offerings.append(flat)\n",
    "\n",
    "df_offerings = pd.DataFrame(flattened_offerings)\n",
    "df_offerings.to_csv(\"processed_dataset/offering.csv\", index=False)\n",
    "print(\"✅ Saved 'offering.csv' with shape:\", df_offerings.shape)\n",
    "\n",
    "with open(\"processed_dataset/reviews_english.txt\", \"r\", encoding=\"utf-8\") as f:\n",
    "    reviews = [json.loads(line) for line in tqdm(f, desc=\"Loading reviews\")]\n",
    "\n",
    "# Flatten reviews\n",
    "flattened_reviews = []\n",
    "for entry in reviews:\n",
    "    flat = {\n",
    "        \"review_id\": entry.get(\"id\"),\n",
    "        \"offering_id\": entry.get(\"offering_id\"),\n",
    "        \"title\": entry.get(\"title\"),\n",
    "        \"text\": entry.get(\"text\"),\n",
    "        \"num_helpful_votes\": entry.get(\"num_helpful_votes\"),\n",
    "        \"date\": entry.get(\"date\"),\n",
    "        \"date_stayed\": entry.get(\"date_stayed\"),\n",
    "        \"via_mobile\": entry.get(\"via_mobile\"),\n",
    "    }\n",
    "\n",
    "    # Flatten ratings\n",
    "    ratings = entry.get(\"ratings\", {})\n",
    "    for k, v in ratings.items():\n",
    "        flat[f\"rating_{k}\"] = v\n",
    "\n",
    "    # Flatten author\n",
    "    author = entry.get(\"author\", {})\n",
    "    flat.update({\n",
    "        \"author_username\": author.get(\"username\"),\n",
    "        \"author_location\": author.get(\"location\"),\n",
    "        \"author_id\": author.get(\"id\"),\n",
    "        \"author_num_reviews\": author.get(\"num_reviews\"),\n",
    "        \"author_num_cities\": author.get(\"num_cities\"),\n",
    "        \"author_num_helpful_votes\": author.get(\"num_helpful_votes\"),\n",
    "        \"author_num_type_reviews\": author.get(\"num_type_reviews\")\n",
    "    })\n",
    "\n",
    "    flattened_reviews.append(flat)\n",
    "\n",
    "df_reviews = pd.DataFrame(flattened_reviews)\n",
    "df_reviews.to_csv(\"processed_dataset/reviews_english.csv\", index=False)\n",
    "print(\"✅ Saved 'reviews_english.csv' with shape:\", df_reviews.shape)"
   ]
  },
  {
   "cell_type": "code",
   "execution_count": null,
   "metadata": {},
   "outputs": [
    {
     "name": "stdout",
     "output_type": "stream",
     "text": [
      "Number of unique values for each column in 'offering.csv':\n",
      "hotel_id               4333\n",
      "name                   4254\n",
      "hotel_class               9\n",
      "region_id                25\n",
      "url                    4333\n",
      "phone                     1\n",
      "type                      1\n",
      "address_region           17\n",
      "address_street         4321\n",
      "address_postal_code     909\n",
      "address_locality         25\n",
      "dtype: int64\n"
     ]
    }
   ],
   "source": [
    "unique_values = df_offerings.nunique()\n",
    "print(\"Number of unique values for each column in 'offering.csv':\")\n",
    "print(unique_values)"
   ]
  },
  {
   "cell_type": "code",
   "execution_count": null,
   "metadata": {},
   "outputs": [
    {
     "name": "stdout",
     "output_type": "stream",
     "text": [
      "Number of unique values for each column in 'offering.csv':\n",
      "review_id                                        854341\n",
      "offering_id                                        3941\n",
      "title                                            613126\n",
      "text                                             853569\n",
      "num_helpful_votes                                   100\n",
      "date                                               3948\n",
      "date_stayed                                         169\n",
      "via_mobile                                            2\n",
      "rating_service                                        5\n",
      "rating_cleanliness                                    5\n",
      "rating_overall                                        6\n",
      "rating_value                                          5\n",
      "rating_location                                       5\n",
      "rating_sleep_quality                                  5\n",
      "rating_rooms                                          5\n",
      "author_username                                  527302\n",
      "author_location                                   75603\n",
      "author_id                                        566593\n",
      "author_num_reviews                                  381\n",
      "author_num_cities                                   184\n",
      "author_num_helpful_votes                            506\n",
      "author_num_type_reviews                             190\n",
      "rating_check_in_front_desk                            5\n",
      "rating_business_service_(e_g_internet_access)         5\n",
      "dtype: int64\n"
     ]
    }
   ],
   "source": [
    "unique_values = df_reviews.nunique()\n",
    "print(\"Number of unique values for each column in 'offering.csv':\")\n",
    "print(unique_values)"
   ]
  },
  {
   "cell_type": "markdown",
   "metadata": {},
   "source": [
    "# Data Analysis"
   ]
  },
  {
   "cell_type": "code",
   "execution_count": null,
   "metadata": {},
   "outputs": [
    {
     "name": "stdout",
     "output_type": "stream",
     "text": [
      "✅ Loaded offerings: (4333, 11)\n",
      "✅ Loaded reviews: (854341, 24)\n",
      "❗ Reviews with missing offering_id: 0\n",
      "🏨 Number of unique hotels in offerings: 4333\n",
      "📝 Total number of reviews: 854341\n",
      "📊 Average number of reviews per hotel: 216.78\n",
      "\n",
      "🏆 Top 10 Most Reviewed Hotels:\n",
      "   hotel_id                                 name  review_count\n",
      "0    214197          Hotel Pennsylvania New York          5091\n",
      "1     93520                         Park Central          3646\n",
      "2     93618             Waldorf Astoria New York          3441\n",
      "3    122005                 The New Yorker Hotel          3341\n",
      "4    223023                      Hudson New York          3214\n",
      "5     93562                    Affinia Manhattan          3091\n",
      "6     99766                  The Roosevelt Hotel          3017\n",
      "7    611947                      Hilton New York          2942\n",
      "8     93437            Edison Hotel Times Square          2816\n",
      "9    249712  The Westin New York at Times Square          2798\n"
     ]
    },
    {
     "data": {
      "image/png": "[encoded data removed]",
      "text/plain": [
       "<Figure size 1200x600 with 1 Axes>"
      ]
     },
     "metadata": {},
     "output_type": "display_data"
    }
   ],
   "source": [
    "import pandas as pd\n",
    "from tqdm import tqdm\n",
    "import matplotlib.pyplot as plt\n",
    "import seaborn as sns\n",
    "\n",
    "df_hotels = pd.read_csv(\"processed_dataset/offering.csv\")\n",
    "df_reviews = pd.read_csv(\"processed_dataset/reviews_english.csv\")\n",
    "\n",
    "print(\"✅ Loaded offerings:\", df_hotels.shape)\n",
    "print(\"✅ Loaded reviews:\", df_reviews.shape)\n",
    "\n",
    "null_offering_ids = df_reviews['offering_id'].isnull().sum()\n",
    "print(f\"❗ Reviews with missing offering_id: {null_offering_ids}\")\n",
    "\n",
    "unique_hotels = df_hotels[\"hotel_id\"].nunique()\n",
    "print(f\"🏨 Number of unique hotels in offerings: {unique_hotels}\")\n",
    "\n",
    "total_reviews = df_reviews.shape[0]\n",
    "print(f\"📝 Total number of reviews: {total_reviews}\")\n",
    "\n",
    "review_counts = df_reviews['offering_id'].value_counts().reset_index()\n",
    "review_counts.columns = ['hotel_id', 'review_count']\n",
    "\n",
    "merged = review_counts.merge(df_hotels, on=\"hotel_id\", how=\"left\")\n",
    "\n",
    "avg_reviews_per_hotel = review_counts['review_count'].mean()\n",
    "print(f\"📊 Average number of reviews per hotel: {avg_reviews_per_hotel:.2f}\")\n",
    "\n",
    "# Top 10 most reviewed hotels\n",
    "top10 = merged.head(10)\n",
    "print(\"\\n🏆 Top 10 Most Reviewed Hotels:\")\n",
    "print(top10[['hotel_id', 'name', 'review_count']])\n",
    "\n",
    "# Save top 10 to CSV (optional)\n",
    "top10.to_csv(\"top_10_most_reviewed_hotels.csv\", index=False)\n",
    "\n",
    "plt.figure(figsize=(12, 6))\n",
    "sns.barplot(x='review_count', y='name', data=merged.head(20))\n",
    "plt.title(\"Top 20 Most Reviewed Hotels\")\n",
    "plt.xlabel(\"Number of Reviews\")\n",
    "plt.ylabel(\"Hotel Name\")\n",
    "plt.tight_layout()\n",
    "plt.savefig(\"top_20_reviewed_hotels.png\")\n",
    "plt.show()\n"
   ]
  },
  {
   "cell_type": "code",
   "execution_count": null,
   "metadata": {},
   "outputs": [
    {
     "name": "stdout",
     "output_type": "stream",
     "text": [
      "Unique values in the 'rating_overall' column:\n",
      "[0.0, 1.0, 2.0, 3.0, 4.0, 5.0]\n"
     ]
    },
    {
     "data": {
      "image/png": "[encoded data removed]",
      "text/plain": [
       "<Figure size 400x300 with 1 Axes>"
      ]
     },
     "metadata": {},
     "output_type": "display_data"
    }
   ],
   "source": [
    "import matplotlib.pyplot as plt\n",
    "\n",
    "# Drop rows with missing values in 'rating_overall'\n",
    "df_reviews['rating_overall'] = pd.to_numeric(df_reviews['rating_overall'], errors='coerce')\n",
    "rating_counts = df_reviews['rating_overall'].value_counts().sort_index()\n",
    "unique_values = df_reviews['rating_overall'].dropna().unique()\n",
    "print(\"Unique values in the 'rating_overall' column:\")\n",
    "print(sorted(unique_values))\n",
    "\n",
    "plt.figure(figsize=(4, 3))\n",
    "rating_counts.plot(kind='bar', color='skyblue', edgecolor='black')\n",
    "plt.title('Distribution of Overall Ratings', fontsize=16)\n",
    "plt.xlabel('Rating Overall', fontsize=14)\n",
    "plt.ylabel('Frequency', fontsize=14)\n",
    "plt.xticks(rotation=0)\n",
    "plt.grid(axis='y', linestyle='--', alpha=0.7)\n",
    "plt.show()"
   ]
  },
  {
   "cell_type": "markdown",
   "metadata": {},
   "source": [
    "# Sentiment Analysis"
   ]
  },
  {
   "cell_type": "code",
   "execution_count": null,
   "metadata": {},
   "outputs": [
    {
     "name": "stderr",
     "output_type": "stream",
     "text": [
      "/tmp/ipykernel_3411194/718382501.py:28: SettingWithCopyWarning: \n",
      "A value is trying to be set on a copy of a slice from a DataFrame.\n",
      "Try using .loc[row_indexer,col_indexer] = value instead\n",
      "\n",
      "See the caveats in the documentation: https://pandas.pydata.org/pandas-docs/stable/user_guide/indexing.html#returning-a-view-versus-a-copy\n",
      "  df_to_save[\"labels\"] = df_to_save[\"labels\"].astype(int)\n"
     ]
    },
    {
     "name": "stdout",
     "output_type": "stream",
     "text": [
      "\n",
      "Sentiment label distribution (0 = Negative, 1 = Neutral, 2 = Positive):\n",
      "labels\n",
      "0    111628\n",
      "1    118666\n",
      "2    624033\n",
      "Name: count, dtype: int64\n",
      "\n",
      "✅ Saved combined 'text' and 'labels' to 'sentiment_analysis/sentiment_dataset.csv'\n"
     ]
    }
   ],
   "source": [
    "import pandas as pd\n",
    "\n",
    "df = pd.read_csv(\"processed_dataset/reviews_english.csv\")\n",
    "\n",
    "# Add sentiment labels\n",
    "def assign_sentiment(rating):\n",
    "    if rating in [1, 2]:\n",
    "        return 0  # Negative\n",
    "    elif rating == 3:\n",
    "        return 1  # Neutral\n",
    "    elif rating in [4, 5]:\n",
    "        return 2  # Positive\n",
    "    else:\n",
    "        return None\n",
    "\n",
    "df[\"labels\"] = df[\"rating_overall\"].apply(assign_sentiment)\n",
    "\n",
    "df = df.dropna(subset=[\"labels\", \"title\", \"text\"])\n",
    "\n",
    "df[\"text\"] = df[\"title\"].str.strip() + \"\\n\" + df[\"text\"].str.strip()\n",
    "\n",
    "df_to_save = df[[\"text\", \"labels\"]]\n",
    "df_to_save[\"labels\"] = df_to_save[\"labels\"].astype(int)\n",
    "\n",
    "print(\"\\nSentiment label distribution (0 = Negative, 1 = Neutral, 2 = Positive):\")\n",
    "print(df_to_save[\"labels\"].value_counts().sort_index())\n",
    "\n",
    "df_to_save.to_csv(\"sentiment_analysis/sentiment_dataset.csv\", index=False)\n",
    "print(\"\\n✅ Saved combined 'text' and 'labels' to 'sentiment_analysis/sentiment_dataset.csv'\")"
   ]
  },
  {
   "cell_type": "code",
   "execution_count": null,
   "metadata": {},
   "outputs": [
    {
     "name": "stdout",
     "output_type": "stream",
     "text": [
      "Train size: 683461\n",
      "Validation size: 85433\n",
      "Test size: 85433\n"
     ]
    }
   ],
   "source": [
    "import pandas as pd\n",
    "from sklearn.model_selection import train_test_split\n",
    "\n",
    "df = pd.read_csv(\"sentiment_analysis/sentiment_dataset.csv\")\n",
    "\n",
    "train_df, temp_df = train_test_split(df, test_size=0.2, stratify=df['labels'], random_state=42)\n",
    "val_df, test_df = train_test_split(temp_df, test_size=0.5, stratify=temp_df['labels'], random_state=42)\n",
    "\n",
    "train_df.to_csv(\"sentiment_analysis/sentiment_train.csv\", index=False)\n",
    "val_df.to_csv(\"sentiment_analysis/sentiment_val.csv\", index=False)\n",
    "test_df.to_csv(\"sentiment_analysis/sentiment_test.csv\", index=False)\n",
    "\n",
    "print(f\"Train size: {len(train_df)}\")\n",
    "print(f\"Validation size: {len(val_df)}\")\n",
    "print(f\"Test size: {len(test_df)}\")\n"
   ]
  },
  {
   "cell_type": "markdown",
   "metadata": {},
   "source": [
    "## DistilBERT"
   ]
  },
  {
   "cell_type": "code",
   "execution_count": 74,
   "metadata": {},
   "outputs": [
    {
     "name": "stdout",
     "output_type": "stream",
     "text": [
      "CPU Cores (Logical): 32\n",
      "Total RAM: 186.34 GB\n"
     ]
    }
   ],
   "source": [
    "import psutil\n",
    "\n",
    "# CPU info\n",
    "num_cores = psutil.cpu_count(logical=True)\n",
    "print(f\"CPU Cores (Logical): {num_cores}\")\n",
    "\n",
    "# RAM info\n",
    "ram_bytes = psutil.virtual_memory().total\n",
    "ram_gb = ram_bytes / (1024 ** 3)\n",
    "print(f\"Total RAM: {ram_gb:.2f} GB\")"
   ]
  },
  {
   "cell_type": "markdown",
   "metadata": {},
   "source": [
    "### Parameters"
   ]
  },
  {
   "cell_type": "code",
   "execution_count": 75,
   "metadata": {},
   "outputs": [
    {
     "name": "stdout",
     "output_type": "stream",
     "text": [
      "Using device: cuda\n"
     ]
    }
   ],
   "source": [
    "import pandas as pd, numpy as np\n",
    "import torch\n",
    "from datasets import Dataset\n",
    "from transformers import (DistilBertTokenizerFast, DistilBertForSequenceClassification,\n",
    "    TrainingArguments, Trainer, DataCollatorWithPadding, TrainerCallback)\n",
    "\n",
    "# Ensure GPU is used\n",
    "device = torch.device(\"cuda\" if torch.cuda.is_available() else \"cpu\")\n",
    "print(f\"Using device: {device}\")\n",
    "\n",
    "# Configurable hyperparameters\n",
    "EPOCHS = 5\n",
    "LEARNING_RATE = 1e-5  \n",
    "WEIGHT_DECAY = 0.01\n",
    "TRAIN_BATCH_SIZE = 128\n",
    "EVAL_BATCH_SIZE = 128\n",
    "\n",
    "CHECKPOINT = \"distilbert-base-uncased\"\n",
    "OUTPUT_DIR = \"sentiment_analysis/distilbert\""
   ]
  },
  {
   "cell_type": "markdown",
   "metadata": {},
   "source": [
    "### Tokenization and Pre-Processing"
   ]
  },
  {
   "cell_type": "code",
   "execution_count": null,
   "metadata": {},
   "outputs": [],
   "source": [
    "train_df = pd.read_csv(\"sentiment_analysis/sentiment_train.csv\")\n",
    "val_df = pd.read_csv(\"sentiment_analysis/sentiment_val.csv\")\n",
    "test_df = pd.read_csv(\"sentiment_analysis/sentiment_test.csv\")\n",
    "\n",
    "# convert sentiment labels from float to int\n",
    "train_df[\"labels\"] = train_df[\"labels\"].astype(int)\n",
    "val_df[\"labels\"] = val_df[\"labels\"].astype(int)\n",
    "test_df[\"labels\"] = test_df[\"labels\"].astype(int)\n",
    "\n",
    "# Convert to Hugging Face Datasets\n",
    "train_ds = Dataset.from_pandas(train_df)\n",
    "val_ds = Dataset.from_pandas(val_df)\n",
    "test_ds = Dataset.from_pandas(test_df)"
   ]
  },
  {
   "cell_type": "code",
   "execution_count": 77,
   "metadata": {},
   "outputs": [
    {
     "name": "stdout",
     "output_type": "stream",
     "text": [
      "Dataset({\n",
      "    features: ['text', 'labels'],\n",
      "    num_rows: 85433\n",
      "})\n"
     ]
    },
    {
     "data": {
      "text/plain": [
       "{'text': \"“One of the best hotels I've stayed at”\\nThree friends and I stayed at the Fairfield Inn & Suites Baltimore Downtown/Inner Harbor for one night. From the moment we arrived, until we left the next morning, the staff was incredibly friendly and helpful. Our room was clean and spacious, the bathroom was clean as well, and the beds were comfortable (though we didn't spend too much time in the room, as we came to Baltimore for a concert at the Ram's Head Live!, which was within walking distance to the hotel). They offer Valet Parking for $30 a night, which we decided to utilize because to park elsewhere was $18 a night, so for just $12 more, Valet was a better option because it was so much easier. We didn't make it to the continental breakfast, but upon checking out, we asked the valet where a good place to park was while we visited the National Aquarium (a brief walk from the hotel). He let us leave our vehicle at the hotel while we got lunch and went to the Aquarium, and provided us with complimentary bottles of water. There was also free Seattle's Best Coffee provided in the lobby as well. Also, the bar inside the hotel was great -- reasonably priced drinks and a friendly staff. I definitely recommend this hotel if you are traveling to Baltimore!!!\",\n",
       " 'labels': 2}"
      ]
     },
     "execution_count": 77,
     "metadata": {},
     "output_type": "execute_result"
    }
   ],
   "source": [
    "print(test_ds)\n",
    "train_ds[0]"
   ]
  },
  {
   "cell_type": "code",
   "execution_count": null,
   "metadata": {},
   "outputs": [
    {
     "name": "stdout",
     "output_type": "stream",
     "text": [
      "Tokenizing datasets...\n"
     ]
    },
    {
     "name": "stderr",
     "output_type": "stream",
     "text": [
      "Map (num_proc=30): 100%|██████████| 683461/683461 [01:00<00:00, 11228.77 examples/s]\n",
      "Map (num_proc=30): 100%|██████████| 85433/85433 [00:10<00:00, 8501.18 examples/s] \n",
      "Map (num_proc=30): 100%|██████████| 85433/85433 [00:10<00:00, 8486.74 examples/s] \n"
     ]
    }
   ],
   "source": [
    "tokenizer = DistilBertTokenizerFast.from_pretrained(CHECKPOINT)\n",
    "\n",
    "def tokenize(batch):\n",
    "    return tokenizer(batch[\"text\"], truncation=True, padding=\"max_length\", max_length=128)\n",
    "\n",
    "print(\"Tokenizing datasets...\")\n",
    "\n",
    "train_ds = train_ds.map(tokenize, batched=True, batch_size=4096, num_proc=30)\n",
    "val_ds = val_ds.map(tokenize, batched=True, batch_size=4096, num_proc=30)\n",
    "test_ds = test_ds.map(tokenize, batched=True, batch_size=4096, num_proc=30)"
   ]
  },
  {
   "cell_type": "code",
   "execution_count": null,
   "metadata": {},
   "outputs": [
    {
     "data": {
      "text/plain": [
       "{'labels': tensor(2),\n",
       " 'input_ids': tensor([  101,  1523,  2028,  1997,  1996,  2190,  9275,  1045,  1005,  2310,\n",
       "          4370,  2012,  1524,  2093,  2814,  1998,  1045,  4370,  2012,  1996,\n",
       "         18986,  7601,  1004, 19796,  6222,  5116,  1013,  5110,  6496,  2005,\n",
       "          2028,  2305,  1012,  2013,  1996,  2617,  2057,  3369,  1010,  2127,\n",
       "          2057,  2187,  1996,  2279,  2851,  1010,  1996,  3095,  2001, 11757,\n",
       "          5379,  1998, 14044,  1012,  2256,  2282,  2001,  4550,  1998, 22445,\n",
       "          1010,  1996,  5723,  2001,  4550,  2004,  2092,  1010,  1998,  1996,\n",
       "          9705,  2020,  6625,  1006,  2295,  2057,  2134,  1005,  1056,  5247,\n",
       "          2205,  2172,  2051,  1999,  1996,  2282,  1010,  2004,  2057,  2234,\n",
       "          2000,  6222,  2005,  1037,  4164,  2012,  1996,  8223,  1005,  1055,\n",
       "          2132,  2444,   999,  1010,  2029,  2001,  2306,  3788,  3292,  2000,\n",
       "          1996,  3309,  1007,  1012,  2027,  3749, 27238,  5581,  2005,  1002,\n",
       "          2382,  1037,  2305,  1010,  2029,  2057,  2787,   102]),\n",
       " 'attention_mask': tensor([1, 1, 1, 1, 1, 1, 1, 1, 1, 1, 1, 1, 1, 1, 1, 1, 1, 1, 1, 1, 1, 1, 1, 1,\n",
       "         1, 1, 1, 1, 1, 1, 1, 1, 1, 1, 1, 1, 1, 1, 1, 1, 1, 1, 1, 1, 1, 1, 1, 1,\n",
       "         1, 1, 1, 1, 1, 1, 1, 1, 1, 1, 1, 1, 1, 1, 1, 1, 1, 1, 1, 1, 1, 1, 1, 1,\n",
       "         1, 1, 1, 1, 1, 1, 1, 1, 1, 1, 1, 1, 1, 1, 1, 1, 1, 1, 1, 1, 1, 1, 1, 1,\n",
       "         1, 1, 1, 1, 1, 1, 1, 1, 1, 1, 1, 1, 1, 1, 1, 1, 1, 1, 1, 1, 1, 1, 1, 1,\n",
       "         1, 1, 1, 1, 1, 1, 1, 1])}"
      ]
     },
     "execution_count": 79,
     "metadata": {},
     "output_type": "execute_result"
    }
   ],
   "source": [
    "train_ds.set_format(\"torch\", columns=[\"input_ids\", \"attention_mask\", \"labels\"])\n",
    "val_ds.set_format(\"torch\", columns=[\"input_ids\", \"attention_mask\", \"labels\"])\n",
    "test_ds.set_format(\"torch\", columns=[\"input_ids\", \"attention_mask\", \"labels\"])\n",
    "\n",
    "train_ds[0]"
   ]
  },
  {
   "cell_type": "markdown",
   "metadata": {},
   "source": [
    "### Computing and Printing Metrices"
   ]
  },
  {
   "cell_type": "code",
   "execution_count": 80,
   "metadata": {},
   "outputs": [],
   "source": [
    "from sklearn.metrics import accuracy_score, precision_recall_fscore_support\n",
    "from tabulate import tabulate\n",
    "\n",
    "def print_metrics(results):\n",
    "    label_names = [\"Negative\", \"Neutral\", \"Positive\"]\n",
    "\n",
    "    print(\"\\n\\033[1m📊 Model Evaluation Metrics:\\033[0m\")\n",
    "    general_metrics = [\n",
    "        [\"Accuracy\", f\"{results['accuracy']:.4f}\"],\n",
    "        [\"Macro Precision\", f\"{results['macro_precision']:.4f}\"],\n",
    "        [\"Macro Recall\", f\"{results['macro_recall']:.4f}\"],\n",
    "        [\"Macro F1\", f\"{results['macro_f1']:.4f}\"],\n",
    "        [\"Weighted Precision\", f\"{results['weighted_precision']:.4f}\"],\n",
    "        [\"Weighted Recall\", f\"{results['weighted_recall']:.4f}\"],\n",
    "        [\"Weighted F1\", f\"{results['weighted_f1']:.4f}\"]\n",
    "    ]\n",
    "    print(tabulate(general_metrics, headers=[\"Metric\", \"Value\"], tablefmt=\"fancy_grid\"))\n",
    "\n",
    "    print(\"\\n\\033[1m📊 Per-Class Metrics:\\033[0m\")\n",
    "    class_metrics = {\n",
    "        \"Sentiment\": label_names,\n",
    "        \"F1-Score\": [f\"{results[f'{l.lower()}_f1']:.4f}\" for l in label_names],\n",
    "        \"Precision\": [f\"{results[f'{l.lower()}_precision']:.4f}\" for l in label_names],\n",
    "        \"Recall\": [f\"{results[f'{l.lower()}_recall']:.4f}\" for l in label_names]\n",
    "    }\n",
    "    print(tabulate(class_metrics, headers=\"keys\", tablefmt=\"fancy_grid\"))\n",
    "\n",
    "def compute_metrics(eval_pred):\n",
    "    logits, labels = eval_pred\n",
    "    preds = logits.argmax(axis=-1)\n",
    "\n",
    "    # Macro and weighted\n",
    "    precision_macro, recall_macro, f1_macro, _ = precision_recall_fscore_support(labels, preds, average='macro')\n",
    "    precision_weighted, recall_weighted, f1_weighted, _ = precision_recall_fscore_support(labels, preds, average='weighted')\n",
    "\n",
    "    # Per-class\n",
    "    precision_per_class, recall_per_class, f1_per_class, _ = precision_recall_fscore_support(labels, preds, average=None)\n",
    "    label_names = [\"Negative\", \"Neutral\", \"Positive\"]\n",
    "\n",
    "    results = {\n",
    "        \"accuracy\": accuracy_score(labels, preds),\n",
    "        \"macro_precision\": precision_macro,\n",
    "        \"macro_recall\": recall_macro,\n",
    "        \"macro_f1\": f1_macro,\n",
    "        \"weighted_precision\": precision_weighted,\n",
    "        \"weighted_recall\": recall_weighted,\n",
    "        \"weighted_f1\": f1_weighted\n",
    "    }\n",
    "\n",
    "    for i, label in enumerate(label_names):\n",
    "        results[f\"{label.lower()}_f1\"] = f1_per_class[i]\n",
    "        results[f\"{label.lower()}_precision\"] = precision_per_class[i]\n",
    "        results[f\"{label.lower()}_recall\"] = recall_per_class[i]\n",
    "\n",
    "    return results\n",
    "\n",
    "\n",
    "from torch.utils.data import DataLoader\n",
    "import torch\n",
    "\n",
    "class VerboseCallback(TrainerCallback):\n",
    "    def on_epoch_begin(self, args, state, control, **kwargs):\n",
    "        print(f\"\\n🔁 Epoch {int(state.epoch) + 1} started...\")\n",
    "\n",
    "    def on_evaluate(self, args, state, control, **kwargs):\n",
    "        print(f\"\\n📊 Evaluation after epoch {int(state.epoch)}:\")\n",
    "\n",
    "        # Re-run evaluation manually\n",
    "        val_dataloader = DataLoader(val_ds, batch_size=EVAL_BATCH_SIZE)\n",
    "        model.eval()\n",
    "\n",
    "        all_logits = []\n",
    "        all_labels = []\n",
    "\n",
    "        with torch.no_grad():\n",
    "            for batch in val_dataloader:\n",
    "                inputs = {\n",
    "                    \"input_ids\": batch[\"input_ids\"].to(model.device),\n",
    "                    \"attention_mask\": batch[\"attention_mask\"].to(model.device)\n",
    "                }\n",
    "                labels = batch[\"labels\"].to(model.device)\n",
    "                outputs = model(**inputs)\n",
    "                all_logits.append(outputs.logits.cpu())\n",
    "                all_labels.append(labels.cpu())\n",
    "\n",
    "        # Stack everything and compute metrics\n",
    "        logits = torch.cat(all_logits).numpy()\n",
    "        labels = torch.cat(all_labels).numpy()\n",
    "\n",
    "        results = compute_metrics((logits, labels))\n",
    "        print_metrics(results)\n",
    "\n",
    "    def on_train_end(self, args, state, control, **kwargs):\n",
    "        print(\"\\n🏁 Training complete!\")"
   ]
  },
  {
   "cell_type": "markdown",
   "metadata": {},
   "source": [
    "### Model and Trainer Setup"
   ]
  },
  {
   "cell_type": "code",
   "execution_count": null,
   "metadata": {},
   "outputs": [
    {
     "name": "stderr",
     "output_type": "stream",
     "text": [
      "Some weights of DistilBertForSequenceClassification were not initialized from the model checkpoint at distilbert-base-uncased and are newly initialized: ['classifier.bias', 'classifier.weight', 'pre_classifier.bias', 'pre_classifier.weight']\n",
      "You should probably TRAIN this model on a down-stream task to be able to use it for predictions and inference.\n",
      "/tmp/ipykernel_3489532/893700094.py:28: FutureWarning: `tokenizer` is deprecated and will be removed in version 5.0.0 for `Trainer.__init__`. Use `processing_class` instead.\n",
      "  trainer = Trainer(\n"
     ]
    }
   ],
   "source": [
    "from math import ceil\n",
    "model = DistilBertForSequenceClassification.from_pretrained(CHECKPOINT, num_labels=3).to(device)\n",
    "\n",
    "args = TrainingArguments(\n",
    "    output_dir=OUTPUT_DIR,\n",
    "    load_best_model_at_end=True,\n",
    "    do_eval=True,\n",
    "    eval_strategy=\"epoch\",  \n",
    "    save_strategy=\"epoch\",\n",
    "    learning_rate=LEARNING_RATE,\n",
    "    per_device_train_batch_size=TRAIN_BATCH_SIZE,\n",
    "    per_device_eval_batch_size=EVAL_BATCH_SIZE,\n",
    "    num_train_epochs=EPOCHS,\n",
    "    weight_decay=WEIGHT_DECAY,\n",
    "    metric_for_best_model=\"macro_f1\",  # since classes are imbalanced\n",
    "    logging_dir=\"sentiment_analysis/logs\",\n",
    "    report_to=\"none\",\n",
    "    fp16=True,\n",
    "    logging_steps = int(0.05 * ((len(train_ds) // TRAIN_BATCH_SIZE) * EPOCHS)), # log every 5% of training\n",
    "    save_total_limit=2,      # only keep best 2 checkpoints\n",
    "    lr_scheduler_type=\"linear\",      \n",
    "    warmup_steps = ceil(0.1 * (len(train_ds) / TRAIN_BATCH_SIZE) * EPOCHS)\n",
    ")\n",
    "\n",
    "trainer = Trainer(\n",
    "    model=model,\n",
    "    args=args,\n",
    "    train_dataset=train_ds,\n",
    "    eval_dataset=val_ds,\n",
    "    tokenizer=tokenizer,\n",
    "    data_collator=DataCollatorWithPadding(tokenizer),\n",
    "    compute_metrics=compute_metrics,\n",
    "    callbacks=[VerboseCallback()]  \n",
    ")"
   ]
  },
  {
   "cell_type": "markdown",
   "metadata": {},
   "source": [
    "### Training and Evaluation"
   ]
  },
  {
   "cell_type": "code",
   "execution_count": 82,
   "metadata": {},
   "outputs": [
    {
     "name": "stdout",
     "output_type": "stream",
     "text": [
      "Starting training...\n",
      "\n",
      "🔁 Epoch 1 started...\n"
     ]
    },
    {
     "data": {
      "text/html": [
       "\n",
       "    <div>\n",
       "      \n",
       "      <progress value='26700' max='26700' style='width:300px; height:20px; vertical-align: middle;'></progress>\n",
       "      [26700/26700 45:59, Epoch 5/5]\n",
       "    </div>\n",
       "    <table border=\"1\" class=\"dataframe\">\n",
       "  <thead>\n",
       " <tr style=\"text-align: left;\">\n",
       "      <th>Epoch</th>\n",
       "      <th>Training Loss</th>\n",
       "      <th>Validation Loss</th>\n",
       "      <th>Accuracy</th>\n",
       "      <th>Macro Precision</th>\n",
       "      <th>Macro Recall</th>\n",
       "      <th>Macro F1</th>\n",
       "      <th>Weighted Precision</th>\n",
       "      <th>Weighted Recall</th>\n",
       "      <th>Weighted F1</th>\n",
       "      <th>Negative F1</th>\n",
       "      <th>Negative Precision</th>\n",
       "      <th>Negative Recall</th>\n",
       "      <th>Neutral F1</th>\n",
       "      <th>Neutral Precision</th>\n",
       "      <th>Neutral Recall</th>\n",
       "      <th>Positive F1</th>\n",
       "      <th>Positive Precision</th>\n",
       "      <th>Positive Recall</th>\n",
       "    </tr>\n",
       "  </thead>\n",
       "  <tbody>\n",
       "    <tr>\n",
       "      <td>1</td>\n",
       "      <td>0.307400</td>\n",
       "      <td>0.299069</td>\n",
       "      <td>0.879005</td>\n",
       "      <td>0.778076</td>\n",
       "      <td>0.772971</td>\n",
       "      <td>0.774029</td>\n",
       "      <td>0.874214</td>\n",
       "      <td>0.879005</td>\n",
       "      <td>0.875971</td>\n",
       "      <td>0.806868</td>\n",
       "      <td>0.778166</td>\n",
       "      <td>0.837768</td>\n",
       "      <td>0.568396</td>\n",
       "      <td>0.615460</td>\n",
       "      <td>0.528019</td>\n",
       "      <td>0.946823</td>\n",
       "      <td>0.940602</td>\n",
       "      <td>0.953127</td>\n",
       "    </tr>\n",
       "    <tr>\n",
       "      <td>2</td>\n",
       "      <td>0.282200</td>\n",
       "      <td>0.288140</td>\n",
       "      <td>0.883886</td>\n",
       "      <td>0.786823</td>\n",
       "      <td>0.778135</td>\n",
       "      <td>0.780023</td>\n",
       "      <td>0.878197</td>\n",
       "      <td>0.883886</td>\n",
       "      <td>0.879987</td>\n",
       "      <td>0.816286</td>\n",
       "      <td>0.781778</td>\n",
       "      <td>0.853982</td>\n",
       "      <td>0.574260</td>\n",
       "      <td>0.637467</td>\n",
       "      <td>0.522457</td>\n",
       "      <td>0.949522</td>\n",
       "      <td>0.941225</td>\n",
       "      <td>0.957967</td>\n",
       "    </tr>\n",
       "    <tr>\n",
       "      <td>3</td>\n",
       "      <td>0.265800</td>\n",
       "      <td>0.280965</td>\n",
       "      <td>0.886309</td>\n",
       "      <td>0.801029</td>\n",
       "      <td>0.767773</td>\n",
       "      <td>0.782180</td>\n",
       "      <td>0.878581</td>\n",
       "      <td>0.886309</td>\n",
       "      <td>0.881315</td>\n",
       "      <td>0.817594</td>\n",
       "      <td>0.825242</td>\n",
       "      <td>0.810087</td>\n",
       "      <td>0.578681</td>\n",
       "      <td>0.645375</td>\n",
       "      <td>0.524480</td>\n",
       "      <td>0.950265</td>\n",
       "      <td>0.932471</td>\n",
       "      <td>0.968752</td>\n",
       "    </tr>\n",
       "    <tr>\n",
       "      <td>4</td>\n",
       "      <td>0.249200</td>\n",
       "      <td>0.283403</td>\n",
       "      <td>0.886671</td>\n",
       "      <td>0.798024</td>\n",
       "      <td>0.777535</td>\n",
       "      <td>0.786612</td>\n",
       "      <td>0.880898</td>\n",
       "      <td>0.886671</td>\n",
       "      <td>0.883207</td>\n",
       "      <td>0.819775</td>\n",
       "      <td>0.818093</td>\n",
       "      <td>0.821464</td>\n",
       "      <td>0.589690</td>\n",
       "      <td>0.637575</td>\n",
       "      <td>0.548496</td>\n",
       "      <td>0.950371</td>\n",
       "      <td>0.938405</td>\n",
       "      <td>0.962646</td>\n",
       "    </tr>\n",
       "    <tr>\n",
       "      <td>5</td>\n",
       "      <td>0.239200</td>\n",
       "      <td>0.287243</td>\n",
       "      <td>0.886531</td>\n",
       "      <td>0.798326</td>\n",
       "      <td>0.777244</td>\n",
       "      <td>0.786838</td>\n",
       "      <td>0.881055</td>\n",
       "      <td>0.886531</td>\n",
       "      <td>0.883309</td>\n",
       "      <td>0.819511</td>\n",
       "      <td>0.823327</td>\n",
       "      <td>0.815731</td>\n",
       "      <td>0.590621</td>\n",
       "      <td>0.633121</td>\n",
       "      <td>0.553468</td>\n",
       "      <td>0.950381</td>\n",
       "      <td>0.938530</td>\n",
       "      <td>0.962534</td>\n",
       "    </tr>\n",
       "  </tbody>\n",
       "</table><p>"
      ],
      "text/plain": [
       "<IPython.core.display.HTML object>"
      ]
     },
     "metadata": {},
     "output_type": "display_data"
    },
    {
     "name": "stdout",
     "output_type": "stream",
     "text": [
      "\n",
      "📊 Evaluation after epoch 1:\n",
      "\n",
      "\u001b[1m📊 Model Evaluation Metrics:\u001b[0m\n",
      "╒════════════════════╤═════════╕\n",
      "│ Metric             │   Value │\n",
      "╞════════════════════╪═════════╡\n",
      "│ Accuracy           │  0.879  │\n",
      "├────────────────────┼─────────┤\n",
      "│ Macro Precision    │  0.7781 │\n",
      "├────────────────────┼─────────┤\n",
      "│ Macro Recall       │  0.773  │\n",
      "├────────────────────┼─────────┤\n",
      "│ Macro F1           │  0.774  │\n",
      "├────────────────────┼─────────┤\n",
      "│ Weighted Precision │  0.8742 │\n",
      "├────────────────────┼─────────┤\n",
      "│ Weighted Recall    │  0.879  │\n",
      "├────────────────────┼─────────┤\n",
      "│ Weighted F1        │  0.876  │\n",
      "╘════════════════════╧═════════╛\n",
      "\n",
      "\u001b[1m📊 Per-Class Metrics:\u001b[0m\n",
      "╒═════════════╤════════════╤═════════════╤══════════╕\n",
      "│ Sentiment   │   F1-Score │   Precision │   Recall │\n",
      "╞═════════════╪════════════╪═════════════╪══════════╡\n",
      "│ Negative    │     0.8069 │      0.7782 │   0.8378 │\n",
      "├─────────────┼────────────┼─────────────┼──────────┤\n",
      "│ Neutral     │     0.5684 │      0.6155 │   0.528  │\n",
      "├─────────────┼────────────┼─────────────┼──────────┤\n",
      "│ Positive    │     0.9468 │      0.9406 │   0.9531 │\n",
      "╘═════════════╧════════════╧═════════════╧══════════╛\n",
      "\n",
      "🔁 Epoch 2 started...\n",
      "\n",
      "📊 Evaluation after epoch 2:\n",
      "\n",
      "\u001b[1m📊 Model Evaluation Metrics:\u001b[0m\n",
      "╒════════════════════╤═════════╕\n",
      "│ Metric             │   Value │\n",
      "╞════════════════════╪═════════╡\n",
      "│ Accuracy           │  0.8839 │\n",
      "├────────────────────┼─────────┤\n",
      "│ Macro Precision    │  0.7868 │\n",
      "├────────────────────┼─────────┤\n",
      "│ Macro Recall       │  0.7781 │\n",
      "├────────────────────┼─────────┤\n",
      "│ Macro F1           │  0.78   │\n",
      "├────────────────────┼─────────┤\n",
      "│ Weighted Precision │  0.8782 │\n",
      "├────────────────────┼─────────┤\n",
      "│ Weighted Recall    │  0.8839 │\n",
      "├────────────────────┼─────────┤\n",
      "│ Weighted F1        │  0.88   │\n",
      "╘════════════════════╧═════════╛\n",
      "\n",
      "\u001b[1m📊 Per-Class Metrics:\u001b[0m\n",
      "╒═════════════╤════════════╤═════════════╤══════════╕\n",
      "│ Sentiment   │   F1-Score │   Precision │   Recall │\n",
      "╞═════════════╪════════════╪═════════════╪══════════╡\n",
      "│ Negative    │     0.8163 │      0.7818 │   0.854  │\n",
      "├─────────────┼────────────┼─────────────┼──────────┤\n",
      "│ Neutral     │     0.5743 │      0.6375 │   0.5225 │\n",
      "├─────────────┼────────────┼─────────────┼──────────┤\n",
      "│ Positive    │     0.9495 │      0.9412 │   0.958  │\n",
      "╘═════════════╧════════════╧═════════════╧══════════╛\n",
      "\n",
      "🔁 Epoch 3 started...\n",
      "\n",
      "📊 Evaluation after epoch 3:\n",
      "\n",
      "\u001b[1m📊 Model Evaluation Metrics:\u001b[0m\n",
      "╒════════════════════╤═════════╕\n",
      "│ Metric             │   Value │\n",
      "╞════════════════════╪═════════╡\n",
      "│ Accuracy           │  0.8863 │\n",
      "├────────────────────┼─────────┤\n",
      "│ Macro Precision    │  0.801  │\n",
      "├────────────────────┼─────────┤\n",
      "│ Macro Recall       │  0.7678 │\n",
      "├────────────────────┼─────────┤\n",
      "│ Macro F1           │  0.7822 │\n",
      "├────────────────────┼─────────┤\n",
      "│ Weighted Precision │  0.8786 │\n",
      "├────────────────────┼─────────┤\n",
      "│ Weighted Recall    │  0.8863 │\n",
      "├────────────────────┼─────────┤\n",
      "│ Weighted F1        │  0.8813 │\n",
      "╘════════════════════╧═════════╛\n",
      "\n",
      "\u001b[1m📊 Per-Class Metrics:\u001b[0m\n",
      "╒═════════════╤════════════╤═════════════╤══════════╕\n",
      "│ Sentiment   │   F1-Score │   Precision │   Recall │\n",
      "╞═════════════╪════════════╪═════════════╪══════════╡\n",
      "│ Negative    │     0.8176 │      0.8252 │   0.8101 │\n",
      "├─────────────┼────────────┼─────────────┼──────────┤\n",
      "│ Neutral     │     0.5787 │      0.6454 │   0.5245 │\n",
      "├─────────────┼────────────┼─────────────┼──────────┤\n",
      "│ Positive    │     0.9503 │      0.9325 │   0.9688 │\n",
      "╘═════════════╧════════════╧═════════════╧══════════╛\n",
      "\n",
      "🔁 Epoch 4 started...\n",
      "\n",
      "📊 Evaluation after epoch 4:\n",
      "\n",
      "\u001b[1m📊 Model Evaluation Metrics:\u001b[0m\n",
      "╒════════════════════╤═════════╕\n",
      "│ Metric             │   Value │\n",
      "╞════════════════════╪═════════╡\n",
      "│ Accuracy           │  0.8867 │\n",
      "├────────────────────┼─────────┤\n",
      "│ Macro Precision    │  0.798  │\n",
      "├────────────────────┼─────────┤\n",
      "│ Macro Recall       │  0.7775 │\n",
      "├────────────────────┼─────────┤\n",
      "│ Macro F1           │  0.7866 │\n",
      "├────────────────────┼─────────┤\n",
      "│ Weighted Precision │  0.8809 │\n",
      "├────────────────────┼─────────┤\n",
      "│ Weighted Recall    │  0.8867 │\n",
      "├────────────────────┼─────────┤\n",
      "│ Weighted F1        │  0.8832 │\n",
      "╘════════════════════╧═════════╛\n",
      "\n",
      "\u001b[1m📊 Per-Class Metrics:\u001b[0m\n",
      "╒═════════════╤════════════╤═════════════╤══════════╕\n",
      "│ Sentiment   │   F1-Score │   Precision │   Recall │\n",
      "╞═════════════╪════════════╪═════════════╪══════════╡\n",
      "│ Negative    │     0.8198 │      0.8181 │   0.8215 │\n",
      "├─────────────┼────────────┼─────────────┼──────────┤\n",
      "│ Neutral     │     0.5897 │      0.6376 │   0.5485 │\n",
      "├─────────────┼────────────┼─────────────┼──────────┤\n",
      "│ Positive    │     0.9504 │      0.9384 │   0.9626 │\n",
      "╘═════════════╧════════════╧═════════════╧══════════╛\n",
      "\n",
      "🔁 Epoch 5 started...\n",
      "\n",
      "📊 Evaluation after epoch 5:\n",
      "\n",
      "\u001b[1m📊 Model Evaluation Metrics:\u001b[0m\n",
      "╒════════════════════╤═════════╕\n",
      "│ Metric             │   Value │\n",
      "╞════════════════════╪═════════╡\n",
      "│ Accuracy           │  0.8865 │\n",
      "├────────────────────┼─────────┤\n",
      "│ Macro Precision    │  0.7983 │\n",
      "├────────────────────┼─────────┤\n",
      "│ Macro Recall       │  0.7772 │\n",
      "├────────────────────┼─────────┤\n",
      "│ Macro F1           │  0.7868 │\n",
      "├────────────────────┼─────────┤\n",
      "│ Weighted Precision │  0.8811 │\n",
      "├────────────────────┼─────────┤\n",
      "│ Weighted Recall    │  0.8865 │\n",
      "├────────────────────┼─────────┤\n",
      "│ Weighted F1        │  0.8833 │\n",
      "╘════════════════════╧═════════╛\n",
      "\n",
      "\u001b[1m📊 Per-Class Metrics:\u001b[0m\n",
      "╒═════════════╤════════════╤═════════════╤══════════╕\n",
      "│ Sentiment   │   F1-Score │   Precision │   Recall │\n",
      "╞═════════════╪════════════╪═════════════╪══════════╡\n",
      "│ Negative    │     0.8195 │      0.8233 │   0.8157 │\n",
      "├─────────────┼────────────┼─────────────┼──────────┤\n",
      "│ Neutral     │     0.5906 │      0.6331 │   0.5535 │\n",
      "├─────────────┼────────────┼─────────────┼──────────┤\n",
      "│ Positive    │     0.9504 │      0.9385 │   0.9625 │\n",
      "╘═════════════╧════════════╧═════════════╧══════════╛\n",
      "\n",
      "🏁 Training complete!\n"
     ]
    },
    {
     "data": {
      "text/plain": [
       "TrainOutput(global_step=26700, training_loss=0.2844273794367072, metrics={'train_runtime': 2759.4931, 'train_samples_per_second': 1238.381, 'train_steps_per_second': 9.676, 'total_flos': 1.1317239417403008e+17, 'train_loss': 0.2844273794367072, 'epoch': 5.0})"
      ]
     },
     "execution_count": 82,
     "metadata": {},
     "output_type": "execute_result"
    }
   ],
   "source": [
    "print(\"Starting training...\")\n",
    "trainer.train()"
   ]
  },
  {
   "cell_type": "code",
   "execution_count": 83,
   "metadata": {},
   "outputs": [
    {
     "name": "stdout",
     "output_type": "stream",
     "text": [
      "\n",
      "Final Evaluation on Test Set:\n"
     ]
    },
    {
     "data": {
      "text/html": [
       "\n",
       "    <div>\n",
       "      \n",
       "      <progress value='668' max='668' style='width:300px; height:20px; vertical-align: middle;'></progress>\n",
       "      [668/668 00:19]\n",
       "    </div>\n",
       "    "
      ],
      "text/plain": [
       "<IPython.core.display.HTML object>"
      ]
     },
     "metadata": {},
     "output_type": "display_data"
    },
    {
     "name": "stdout",
     "output_type": "stream",
     "text": [
      "\n",
      "📊 Evaluation after epoch 5:\n"
     ]
    },
    {
     "name": "stdout",
     "output_type": "stream",
     "text": [
      "\n",
      "\u001b[1m📊 Model Evaluation Metrics:\u001b[0m\n",
      "╒════════════════════╤═════════╕\n",
      "│ Metric             │   Value │\n",
      "╞════════════════════╪═════════╡\n",
      "│ Accuracy           │  0.8865 │\n",
      "├────────────────────┼─────────┤\n",
      "│ Macro Precision    │  0.7983 │\n",
      "├────────────────────┼─────────┤\n",
      "│ Macro Recall       │  0.7772 │\n",
      "├────────────────────┼─────────┤\n",
      "│ Macro F1           │  0.7868 │\n",
      "├────────────────────┼─────────┤\n",
      "│ Weighted Precision │  0.8811 │\n",
      "├────────────────────┼─────────┤\n",
      "│ Weighted Recall    │  0.8865 │\n",
      "├────────────────────┼─────────┤\n",
      "│ Weighted F1        │  0.8833 │\n",
      "╘════════════════════╧═════════╛\n",
      "\n",
      "\u001b[1m📊 Per-Class Metrics:\u001b[0m\n",
      "╒═════════════╤════════════╤═════════════╤══════════╕\n",
      "│ Sentiment   │   F1-Score │   Precision │   Recall │\n",
      "╞═════════════╪════════════╪═════════════╪══════════╡\n",
      "│ Negative    │     0.8195 │      0.8233 │   0.8157 │\n",
      "├─────────────┼────────────┼─────────────┼──────────┤\n",
      "│ Neutral     │     0.5906 │      0.6331 │   0.5535 │\n",
      "├─────────────┼────────────┼─────────────┼──────────┤\n",
      "│ Positive    │     0.9504 │      0.9385 │   0.9625 │\n",
      "╘═════════════╧════════════╧═════════════╧══════════╛\n",
      "{'eval_loss': 0.2878738045692444, 'eval_accuracy': 0.8857584305830299, 'eval_macro_precision': 0.7967481819414011, 'eval_macro_recall': 0.7771278398936955, 'eval_macro_f1': 0.786102938983332, 'eval_weighted_precision': 0.8805030698910649, 'eval_weighted_recall': 0.8857584305830299, 'eval_weighted_f1': 0.8827033412998856, 'eval_negative_f1': 0.8202221922367652, 'eval_negative_precision': 0.8236675700090335, 'eval_negative_recall': 0.8168055182298666, 'eval_neutral_f1': 0.5882089418510886, 'eval_neutral_precision': 0.6278691660290742, 'eval_neutral_recall': 0.5532614191808528, 'eval_positive_f1': 0.9498776828621418, 'eval_positive_precision': 0.9387078097860955, 'eval_positive_recall': 0.9613165822703673, 'eval_runtime': 19.7261, 'eval_samples_per_second': 4330.964, 'eval_steps_per_second': 33.864, 'epoch': 5.0}\n"
     ]
    }
   ],
   "source": [
    "print(\"\\nFinal Evaluation on Test Set:\")\n",
    "print(trainer.evaluate(test_ds))"
   ]
  },
  {
   "cell_type": "code",
   "execution_count": null,
   "metadata": {},
   "outputs": [
    {
     "name": "stdout",
     "output_type": "stream",
     "text": [
      "\n",
      "Saved training logs to 'training_logs.csv'\n",
      "\n",
      "Saved test predictions to 'test_predictions.csv'\n"
     ]
    }
   ],
   "source": [
    "trainer.save_model(\"sentiment_analysis/model\")\n",
    "tokenizer.save_pretrained(\"sentiment_analysis/model\")\n",
    "\n",
    "log_history = trainer.state.log_history\n",
    "log_df = pd.DataFrame(log_history)\n",
    "log_df.to_csv(\"sentiment_analysis/training_logs.csv\", index=False)\n",
    "print(\"\\nSaved training logs to 'training_logs.csv'\")\n",
    "\n",
    "preds_output = trainer.predict(test_ds)\n",
    "preds = np.argmax(preds_output.predictions, axis=1)\n",
    "\n",
    "test_df[\"predicted_sentiment\"] = preds\n",
    "test_df.to_csv(\"sentiment_analysis/test_predictions.csv\", index=False)\n",
    "print(\"\\nSaved test predictions to 'test_predictions.csv'\")"
   ]
  },
  {
   "cell_type": "markdown",
   "metadata": {},
   "source": [
    "### Inference Testing"
   ]
  },
  {
   "cell_type": "code",
   "execution_count": null,
   "metadata": {},
   "outputs": [
    {
     "name": "stderr",
     "output_type": "stream",
     "text": [
      "/home/mohit/BTP/LSI-LegalBert/chiranjan/lib/python3.12/site-packages/tqdm/auto.py:21: TqdmWarning: IProgress not found. Please update jupyter and ipywidgets. See https://ipywidgets.readthedocs.io/en/stable/user_install.html\n",
      "  from .autonotebook import tqdm as notebook_tqdm\n"
     ]
    }
   ],
   "source": [
    "import torch\n",
    "from transformers import DistilBertForSequenceClassification, DistilBertTokenizerFast\n",
    "import numpy as np\n",
    "\n",
    "model_path = \"sentiment_analysis/model\"\n",
    "model = DistilBertForSequenceClassification.from_pretrained(model_path)\n",
    "tokenizer = DistilBertTokenizerFast.from_pretrained(model_path)\n",
    "model.eval()\n",
    "\n",
    "# Use GPU if available\n",
    "device = torch.device(\"cuda\" if torch.cuda.is_available() else \"cpu\")\n",
    "model.to(device)\n",
    "\n",
    "# Sentiment labels\n",
    "sentiment_labels = {0: \"Negative\", 1: \"Neutral\", 2: \"Positive\"}\n",
    "\n",
    "def predict_sentiment(text):\n",
    "\n",
    "    inputs = tokenizer(text, return_tensors=\"pt\", truncation=True, padding=True, max_length=512).to(device)\n",
    "\n",
    "    with torch.no_grad():\n",
    "        outputs = model(**inputs)\n",
    "        logits = outputs.logits\n",
    "        predicted_class = torch.argmax(logits, dim=1).item()\n",
    "\n",
    "    sentiment = sentiment_labels[predicted_class]\n",
    "    print(f\"\\n📝 Input: {text[:100]}{'...' if len(text) > 100 else ''}\")\n",
    "    print(f\"💡 Predicted Sentiment: {sentiment} ({predicted_class})\")\n",
    "\n",
    "    return sentiment"
   ]
  },
  {
   "cell_type": "code",
   "execution_count": null,
   "metadata": {},
   "outputs": [
    {
     "name": "stdout",
     "output_type": "stream",
     "text": [
      "\n",
      "📝 Input: hotel was fkin trashy\n",
      "💡 Predicted Sentiment: Negative (0)\n"
     ]
    },
    {
     "data": {
      "text/plain": [
       "'Negative'"
      ]
     },
     "execution_count": 12,
     "metadata": {},
     "output_type": "execute_result"
    }
   ],
   "source": [
    "text = \"hotel was fkin trashy\"\n",
    "predict_sentiment(text)"
   ]
  },
  {
   "cell_type": "code",
   "execution_count": null,
   "metadata": {},
   "outputs": [],
   "source": [
    "import pandas as pd\n",
    "from sklearn.metrics import confusion_matrix, ConfusionMatrixDisplay\n",
    "import matplotlib.pyplot as plt\n",
    "\n",
    "df = pd.read_csv(\"sentiment_analysis/test_predictions.csv\")\n",
    "\n",
    "print(df.columns)  # should include 'labels' and 'predicted_sentiment'\n",
    "\n",
    "# Confusion matrix\n",
    "true_labels = df[\"labels\"]\n",
    "pred_labels = df[\"predicted_sentiment\"]\n",
    "\n",
    "cm = confusion_matrix(true_labels, pred_labels, labels=[0, 1, 2])\n",
    "disp = ConfusionMatrixDisplay(confusion_matrix=cm, display_labels=[\"Negative\", \"Neutral\", \"Positive\"])\n",
    "disp.plot(cmap=\"Blues\", values_format=\"d\")\n",
    "plt.title(\"Confusion Matrix - Sentiment Classification\")\n",
    "plt.xlabel(\"Predicted Sentiment\")\n",
    "plt.ylabel(\"True Sentiment\")\n",
    "plt.tight_layout()\n",
    "plt.show()"
   ]
  },
  {
   "cell_type": "code",
   "execution_count": 3,
   "metadata": {},
   "outputs": [
    {
     "name": "stdout",
     "output_type": "stream",
     "text": [
      "Index(['i text', 'labels', 'predicted_sentiment'], dtype='object')\n"
     ]
    },
    {
     "data": {
      "image/png": "[encoded data removed]",
      "text/plain": [
       "<Figure size 640x480 with 2 Axes>"
      ]
     },
     "metadata": {},
     "output_type": "display_data"
    }
   ],
   "source": [
    "import pandas as pd\n",
    "from sklearn.metrics import confusion_matrix, ConfusionMatrixDisplay\n",
    "import matplotlib.pyplot as plt\n",
    "\n",
    "# Load predictions\n",
    "df = pd.read_csv(\"sentiment_analysis/test_predictions.csv\")\n",
    "\n",
    "# Confirm columns\n",
    "print(df.columns)  # should include 'labels' and 'predicted_sentiment'\n",
    "\n",
    "# Confusion matrix\n",
    "true_labels = df[\"labels\"]\n",
    "pred_labels = df[\"predicted_sentiment\"]\n",
    "\n",
    "cm = confusion_matrix(true_labels, pred_labels, labels=[0, 1, 2])\n",
    "disp = ConfusionMatrixDisplay(confusion_matrix=cm, display_labels=[\"Negative\", \"Neutral\", \"Positive\"])\n",
    "disp.plot(cmap=\"Blues\", values_format=\"d\")\n",
    "plt.title(\"Confusion Matrix - Sentiment Classification\")\n",
    "plt.xlabel(\"Predicted Sentiment\")\n",
    "plt.ylabel(\"True Sentiment\")\n",
    "plt.tight_layout()\n",
    "plt.show()"
   ]
  },
  {
   "cell_type": "code",
   "execution_count": 5,
   "metadata": {},
   "outputs": [
    {
     "data": {
      "image/png": "[encoded data removed]",
      "text/plain": [
       "<Figure size 640x480 with 2 Axes>"
      ]
     },
     "metadata": {},
     "output_type": "display_data"
    }
   ],
   "source": [
    "import seaborn as sns\n",
    "import numpy as np\n",
    "\n",
    "cm_normalized = cm.astype(\"float\") / cm.sum(axis=1)[:, np.newaxis]\n",
    "sns.heatmap(cm_normalized, annot=True, fmt=\".2f\", cmap=\"Blues\", xticklabels=[\"Negative\", \"Neutral\", \"Positive\"], yticklabels=[\"Negative\", \"Neutral\", \"Positive\"])\n",
    "plt.xlabel(\"Predicted Sentiment\")\n",
    "plt.ylabel(\"True Sentiment\")\n",
    "plt.title(\"Normalized Confusion Matrix\")\n",
    "plt.show()"
   ]
  },
  {
   "cell_type": "markdown",
   "metadata": {},
   "source": [
    "# Rating Prediction"
   ]
  },
  {
   "cell_type": "markdown",
   "metadata": {},
   "source": [
    "NOTE : instead of taking entire 800k entries -> slect only 100k entries for faster model training"
   ]
  },
  {
   "cell_type": "code",
   "execution_count": 1,
   "metadata": {},
   "outputs": [
    {
     "name": "stdout",
     "output_type": "stream",
     "text": [
      "🧹 Dropped 14 entries with rating = 0\n",
      "\n",
      "📊 Sampled rating class distribution (labels 0–4 → ratings 1–5):\n",
      "labels\n",
      "0     6630\n",
      "1     7324\n",
      "2    14833\n",
      "3    35372\n",
      "4    42631\n",
      "Name: count, dtype: int64\n",
      "\n",
      "✅ Saved reduced rating classification dataset to 'rating_classification/rating_dataset.csv'\n"
     ]
    }
   ],
   "source": [
    "import pandas as pd\n",
    "from sklearn.model_selection import train_test_split\n",
    "\n",
    "df = pd.read_csv(\"processed_dataset/reviews_english.csv\")\n",
    "\n",
    "# Drop invalid ratings (e.g., 0)\n",
    "initial_count = len(df)\n",
    "df = df[df[\"rating_overall\"] >= 1]\n",
    "print(f\"🧹 Dropped {initial_count - len(df)} entries with rating = 0\")\n",
    "\n",
    "df = df.dropna(subset=[\"title\", \"text\", \"rating_overall\"])\n",
    "\n",
    "df[\"labels\"] = df[\"rating_overall\"].astype(int) - 1\n",
    "\n",
    "df[\"text\"] = df[\"title\"].str.strip() + \"\\n\" + df[\"text\"].str.strip()\n",
    "\n",
    "df = df[[\"text\", \"labels\"]]\n",
    "\n",
    "# Take 1/8th of data with stratified sampling\n",
    "sample_frac = 1 / 8\n",
    "df_sampled, _ = train_test_split(\n",
    "    df, \n",
    "    train_size=sample_frac, \n",
    "    stratify=df[\"labels\"], \n",
    "    random_state=42\n",
    ")\n",
    "\n",
    "# Check label distribution\n",
    "print(\"\\n📊 Sampled rating class distribution (labels 0–4 → ratings 1–5):\")\n",
    "print(df_sampled[\"labels\"].value_counts().sort_index())\n",
    "\n",
    "# Save sampled version\n",
    "df_sampled.to_csv(\"rating_classification/rating_dataset.csv\", index=False)\n",
    "print(\"\\n✅ Saved reduced rating classification dataset to 'rating_classification/rating_dataset.csv'\")"
   ]
  },
  {
   "cell_type": "code",
   "execution_count": 2,
   "metadata": {},
   "outputs": [
    {
     "name": "stdout",
     "output_type": "stream",
     "text": [
      "\n",
      "📊 Train size: 85432\n",
      "📊 Validation size: 10679\n",
      "📊 Test size: 10679\n",
      "\n",
      "✅ Label distribution in train set:\n",
      "labels\n",
      "0    0.062084\n",
      "1    0.068581\n",
      "2    0.138894\n",
      "3    0.331234\n",
      "4    0.399206\n",
      "Name: proportion, dtype: float64\n",
      "\n",
      "✅ Label distribution in val set:\n",
      "labels\n",
      "0    0.062084\n",
      "1    0.068639\n",
      "2    0.138871\n",
      "3    0.331211\n",
      "4    0.399195\n",
      "Name: proportion, dtype: float64\n",
      "\n",
      "✅ Label distribution in test set:\n",
      "labels\n",
      "0    0.062084\n",
      "1    0.068546\n",
      "2    0.138964\n",
      "3    0.331211\n",
      "4    0.399195\n",
      "Name: proportion, dtype: float64\n"
     ]
    }
   ],
   "source": [
    "import pandas as pd\n",
    "from sklearn.model_selection import train_test_split\n",
    "\n",
    "df = pd.read_csv(\"rating_classification/rating_dataset.csv\")\n",
    "\n",
    "train_df, temp_df = train_test_split(df, test_size=0.2, stratify=df['labels'], random_state=42)\n",
    "val_df, test_df = train_test_split(temp_df, test_size=0.5, stratify=temp_df['labels'], random_state=42)\n",
    "\n",
    "train_df.to_csv(\"rating_classification/rating_train.csv\", index=False)\n",
    "val_df.to_csv(\"rating_classification/rating_val.csv\", index=False)\n",
    "test_df.to_csv(\"rating_classification/rating_test.csv\", index=False)\n",
    "\n",
    "# Print distribution\n",
    "print(f\"\\n📊 Train size: {len(train_df)}\")\n",
    "print(f\"📊 Validation size: {len(val_df)}\")\n",
    "print(f\"📊 Test size: {len(test_df)}\")\n",
    "\n",
    "print(\"\\n✅ Label distribution in train set:\")\n",
    "print(train_df[\"labels\"].value_counts(normalize=True).sort_index())\n",
    "\n",
    "print(\"\\n✅ Label distribution in val set:\")\n",
    "print(val_df[\"labels\"].value_counts(normalize=True).sort_index())\n",
    "\n",
    "print(\"\\n✅ Label distribution in test set:\")\n",
    "print(test_df[\"labels\"].value_counts(normalize=True).sort_index())"
   ]
  },
  {
   "cell_type": "markdown",
   "metadata": {},
   "source": [
    "## DistillBERT"
   ]
  },
  {
   "cell_type": "code",
   "execution_count": 3,
   "metadata": {},
   "outputs": [
    {
     "name": "stdout",
     "output_type": "stream",
     "text": [
      "CPU Cores (Logical): 32\n",
      "Total RAM: 186.34 GB\n"
     ]
    }
   ],
   "source": [
    "import psutil\n",
    "\n",
    "# CPU info\n",
    "num_cores = psutil.cpu_count(logical=True)\n",
    "print(f\"CPU Cores (Logical): {num_cores}\")\n",
    "\n",
    "# RAM info\n",
    "ram_bytes = psutil.virtual_memory().total\n",
    "ram_gb = ram_bytes / (1024 ** 3)\n",
    "print(f\"Total RAM: {ram_gb:.2f} GB\")"
   ]
  },
  {
   "cell_type": "markdown",
   "metadata": {},
   "source": [
    "### Parameters"
   ]
  },
  {
   "cell_type": "code",
   "execution_count": 4,
   "metadata": {},
   "outputs": [
    {
     "name": "stderr",
     "output_type": "stream",
     "text": [
      "/home/mohit/BTP/LSI-LegalBert/chiranjan/lib/python3.12/site-packages/tqdm/auto.py:21: TqdmWarning: IProgress not found. Please update jupyter and ipywidgets. See https://ipywidgets.readthedocs.io/en/stable/user_install.html\n",
      "  from .autonotebook import tqdm as notebook_tqdm\n"
     ]
    },
    {
     "name": "stdout",
     "output_type": "stream",
     "text": [
      "Using device: cuda\n"
     ]
    }
   ],
   "source": [
    "import pandas as pd, numpy as np\n",
    "import torch\n",
    "from datasets import Dataset\n",
    "from transformers import (DistilBertTokenizerFast, DistilBertForSequenceClassification,\n",
    "    TrainingArguments, Trainer, DataCollatorWithPadding, TrainerCallback)\n",
    "\n",
    "# Ensure GPU is used\n",
    "device = torch.device(\"cuda\" if torch.cuda.is_available() else \"cpu\")\n",
    "print(f\"Using device: {device}\")\n",
    "\n",
    "EPOCHS = 5\n",
    "LEARNING_RATE = 1e-5  \n",
    "WEIGHT_DECAY = 0.01\n",
    "TRAIN_BATCH_SIZE = 128\n",
    "EVAL_BATCH_SIZE = 128\n",
    "\n",
    "CHECKPOINT = \"distilbert-base-uncased\"\n",
    "OUTPUT_DIR = \"rating_classification/distilbert\""
   ]
  },
  {
   "cell_type": "markdown",
   "metadata": {},
   "source": [
    "### Tokenization and Pre-Processing"
   ]
  },
  {
   "cell_type": "code",
   "execution_count": 5,
   "metadata": {},
   "outputs": [
    {
     "name": "stdout",
     "output_type": "stream",
     "text": [
      "✅ Loaded and converted train/val/test to HuggingFace Dataset.\n"
     ]
    }
   ],
   "source": [
    "from datasets import Dataset\n",
    "import pandas as pd\n",
    "\n",
    "train_df = pd.read_csv(\"rating_classification/rating_train.csv\")\n",
    "val_df = pd.read_csv(\"rating_classification/rating_val.csv\")\n",
    "test_df = pd.read_csv(\"rating_classification/rating_test.csv\")\n",
    "\n",
    "train_df[\"labels\"] = train_df[\"labels\"].astype(int)\n",
    "val_df[\"labels\"] = val_df[\"labels\"].astype(int)\n",
    "test_df[\"labels\"] = test_df[\"labels\"].astype(int)\n",
    "\n",
    "train_ds = Dataset.from_pandas(train_df)\n",
    "val_ds = Dataset.from_pandas(val_df)\n",
    "test_ds = Dataset.from_pandas(test_df)\n",
    "\n",
    "print(\"✅ Loaded and converted train/val/test to HuggingFace Dataset.\")"
   ]
  },
  {
   "cell_type": "code",
   "execution_count": 6,
   "metadata": {},
   "outputs": [
    {
     "name": "stdout",
     "output_type": "stream",
     "text": [
      "Dataset({\n",
      "    features: ['text', 'labels'],\n",
      "    num_rows: 10679\n",
      "})\n"
     ]
    },
    {
     "data": {
      "text/plain": [
       "{'text': '“Outstanding value”\\nStayed here on the beginning edge of a long European trip, then stayed at the Edison on the other end. Liked the Red Roof Inn better. The rooms were clean, of adequate size for a party of 4, simple, nothing fancy, but just fine.\\nWhen you consider the room rates, it becomes hard to complain at all.\\nThe location is excellent, next to the Empire State Building and a close subway station. The service was excellent. \\nThe breakfast was awful though. They should just not offer it at all. The breakfast room was packed tight. The food was so bad I would not touch it: white bagels hard as rocks, out of coffee, bananas - I think that was it. I asked the lone worker for an apple and he snarled that there were bananas already out. I felt sorry for him - he was entirely overwhelmed and probably spitting on all the food in the back room. We went out for breakfast.\\nAnyway, I would absolutely stay here again - and over the Edison Hotel.\\nReally a great place.',\n",
       " 'labels': 4}"
      ]
     },
     "execution_count": 6,
     "metadata": {},
     "output_type": "execute_result"
    }
   ],
   "source": [
    "print(test_ds)\n",
    "train_ds[0]"
   ]
  },
  {
   "cell_type": "code",
   "execution_count": 7,
   "metadata": {},
   "outputs": [
    {
     "name": "stdout",
     "output_type": "stream",
     "text": [
      "Tokenizing datasets...\n"
     ]
    },
    {
     "name": "stderr",
     "output_type": "stream",
     "text": [
      "Map (num_proc=30): 100%|██████████| 85432/85432 [00:06<00:00, 12913.87 examples/s]\n",
      "Map (num_proc=30): 100%|██████████| 10679/10679 [00:01<00:00, 9478.03 examples/s]\n",
      "Map (num_proc=30): 100%|██████████| 10679/10679 [00:01<00:00, 8979.32 examples/s]\n"
     ]
    }
   ],
   "source": [
    "tokenizer = DistilBertTokenizerFast.from_pretrained(CHECKPOINT)\n",
    "\n",
    "def tokenize(batch):\n",
    "    return tokenizer(batch[\"text\"], truncation=True, padding=\"max_length\", max_length=128)\n",
    "\n",
    "print(\"Tokenizing datasets...\")\n",
    "\n",
    "train_ds = train_ds.map(tokenize, batched=True, batch_size=4096, num_proc=30)\n",
    "val_ds = val_ds.map(tokenize, batched=True, batch_size=4096, num_proc=30)\n",
    "test_ds = test_ds.map(tokenize, batched=True, batch_size=4096, num_proc=30)"
   ]
  },
  {
   "cell_type": "code",
   "execution_count": 8,
   "metadata": {},
   "outputs": [
    {
     "data": {
      "text/plain": [
       "{'labels': tensor(4),\n",
       " 'input_ids': tensor([  101,  1523,  5151,  3643,  1524,  4370,  2182,  2006,  1996,  2927,\n",
       "          3341,  1997,  1037,  2146,  2647,  4440,  1010,  2059,  4370,  2012,\n",
       "          1996, 17046,  2006,  1996,  2060,  2203,  1012,  4669,  1996,  2417,\n",
       "          4412,  7601,  2488,  1012,  1996,  4734,  2020,  4550,  1010,  1997,\n",
       "         11706,  2946,  2005,  1037,  2283,  1997,  1018,  1010,  3722,  1010,\n",
       "          2498, 11281,  1010,  2021,  2074,  2986,  1012,  2043,  2017,  5136,\n",
       "          1996,  2282,  6165,  1010,  2009,  4150,  2524,  2000, 17612,  2012,\n",
       "          2035,  1012,  1996,  3295,  2003,  6581,  1010,  2279,  2000,  1996,\n",
       "          3400,  2110,  2311,  1998,  1037,  2485, 10798,  2276,  1012,  1996,\n",
       "          2326,  2001,  6581,  1012,  1996,  6350,  2001,  9643,  2295,  1012,\n",
       "          2027,  2323,  2074,  2025,  3749,  2009,  2012,  2035,  1012,  1996,\n",
       "          6350,  2282,  2001,  8966,  4389,  1012,  1996,  2833,  2001,  2061,\n",
       "          2919,  1045,  2052,  2025,  3543,  2009,  1024,   102]),\n",
       " 'attention_mask': tensor([1, 1, 1, 1, 1, 1, 1, 1, 1, 1, 1, 1, 1, 1, 1, 1, 1, 1, 1, 1, 1, 1, 1, 1,\n",
       "         1, 1, 1, 1, 1, 1, 1, 1, 1, 1, 1, 1, 1, 1, 1, 1, 1, 1, 1, 1, 1, 1, 1, 1,\n",
       "         1, 1, 1, 1, 1, 1, 1, 1, 1, 1, 1, 1, 1, 1, 1, 1, 1, 1, 1, 1, 1, 1, 1, 1,\n",
       "         1, 1, 1, 1, 1, 1, 1, 1, 1, 1, 1, 1, 1, 1, 1, 1, 1, 1, 1, 1, 1, 1, 1, 1,\n",
       "         1, 1, 1, 1, 1, 1, 1, 1, 1, 1, 1, 1, 1, 1, 1, 1, 1, 1, 1, 1, 1, 1, 1, 1,\n",
       "         1, 1, 1, 1, 1, 1, 1, 1])}"
      ]
     },
     "execution_count": 8,
     "metadata": {},
     "output_type": "execute_result"
    }
   ],
   "source": [
    "train_ds.set_format(\"torch\", columns=[\"input_ids\", \"attention_mask\", \"labels\"])\n",
    "val_ds.set_format(\"torch\", columns=[\"input_ids\", \"attention_mask\", \"labels\"])\n",
    "test_ds.set_format(\"torch\", columns=[\"input_ids\", \"attention_mask\", \"labels\"])\n",
    "\n",
    "train_ds[0]"
   ]
  },
  {
   "cell_type": "markdown",
   "metadata": {},
   "source": [
    "### Computing and Printing Metrices"
   ]
  },
  {
   "cell_type": "code",
   "execution_count": 9,
   "metadata": {},
   "outputs": [],
   "source": [
    "from sklearn.metrics import accuracy_score, precision_recall_fscore_support\n",
    "from tabulate import tabulate\n",
    "from torch.utils.data import DataLoader\n",
    "\n",
    "def print_metrics(results):\n",
    "    label_names = [\"1\", \"2\", \"3\", \"4\", \"5\"]  # Ratings as classes\n",
    "\n",
    "    print(\"\\n\\033[1m📊 Model Evaluation Metrics:\\033[0m\")\n",
    "    general_metrics = [\n",
    "        [\"Accuracy\", f\"{results['accuracy']:.4f}\"],\n",
    "        [\"Macro Precision\", f\"{results['macro_precision']:.4f}\"],\n",
    "        [\"Macro Recall\", f\"{results['macro_recall']:.4f}\"],\n",
    "        [\"Macro F1\", f\"{results['macro_f1']:.4f}\"],\n",
    "        [\"Weighted Precision\", f\"{results['weighted_precision']:.4f}\"],\n",
    "        [\"Weighted Recall\", f\"{results['weighted_recall']:.4f}\"],\n",
    "        [\"Weighted F1\", f\"{results['weighted_f1']:.4f}\"]\n",
    "    ]\n",
    "    print(tabulate(general_metrics, headers=[\"Metric\", \"Value\"], tablefmt=\"fancy_grid\"))\n",
    "\n",
    "    print(\"\\n\\033[1m📊 Per-Class Metrics:\\033[0m\")\n",
    "    class_metrics = {\n",
    "        \"Rating\": label_names,\n",
    "        \"F1-Score\": [f\"{results[f'rating_{r}_f1']:.4f}\" for r in label_names],\n",
    "        \"Precision\": [f\"{results[f'rating_{r}_precision']:.4f}\" for r in label_names],\n",
    "        \"Recall\": [f\"{results[f'rating_{r}_recall']:.4f}\" for r in label_names]\n",
    "    }\n",
    "    print(tabulate(class_metrics, headers=\"keys\", tablefmt=\"fancy_grid\"))\n",
    "\n",
    "def compute_metrics(eval_pred):\n",
    "    logits, labels = eval_pred\n",
    "    preds = logits.argmax(axis=-1)\n",
    "\n",
    "    # Macro and weighted\n",
    "    precision_macro, recall_macro, f1_macro, _ = precision_recall_fscore_support(labels, preds, average='macro')\n",
    "    precision_weighted, recall_weighted, f1_weighted, _ = precision_recall_fscore_support(labels, preds, average='weighted')\n",
    "\n",
    "    # Per-class\n",
    "    precision_per_class, recall_per_class, f1_per_class, _ = precision_recall_fscore_support(labels, preds, average=None)\n",
    "\n",
    "    results = {\n",
    "        \"accuracy\": accuracy_score(labels, preds),\n",
    "        \"macro_precision\": precision_macro,\n",
    "        \"macro_recall\": recall_macro,\n",
    "        \"macro_f1\": f1_macro,\n",
    "        \"weighted_precision\": precision_weighted,\n",
    "        \"weighted_recall\": recall_weighted,\n",
    "        \"weighted_f1\": f1_weighted\n",
    "    }\n",
    "\n",
    "    for i, rating in enumerate([\"1\", \"2\", \"3\", \"4\", \"5\"]):\n",
    "        results[f\"rating_{rating}_f1\"] = f1_per_class[i]\n",
    "        results[f\"rating_{rating}_precision\"] = precision_per_class[i]\n",
    "        results[f\"rating_{rating}_recall\"] = recall_per_class[i]\n",
    "\n",
    "    return results\n",
    "\n",
    "class VerboseCallback(TrainerCallback):\n",
    "    def __init__(self, model, val_dataset):\n",
    "        self.model = model\n",
    "        self.val_dataset = val_dataset\n",
    "\n",
    "    def on_epoch_begin(self, args, state, control, **kwargs):\n",
    "        print(f\"\\n🔁 Epoch {int(state.epoch) + 1} started...\")\n",
    "\n",
    "    def on_evaluate(self, args, state, control, **kwargs):\n",
    "        print(f\"\\n📊 Evaluation after epoch {int(state.epoch)}:\")\n",
    "\n",
    "        val_loader = DataLoader(self.val_dataset, batch_size=EVAL_BATCH_SIZE)\n",
    "        self.model.eval()\n",
    "\n",
    "        all_logits = []\n",
    "        all_labels = []\n",
    "\n",
    "        with torch.no_grad():\n",
    "            for batch in val_loader:\n",
    "                inputs = {\n",
    "                    \"input_ids\": batch[\"input_ids\"].to(self.model.device),\n",
    "                    \"attention_mask\": batch[\"attention_mask\"].to(self.model.device)\n",
    "                }\n",
    "                labels = batch[\"labels\"].to(self.model.device)\n",
    "                outputs = self.model(**inputs)\n",
    "                all_logits.append(outputs.logits.cpu())\n",
    "                all_labels.append(labels.cpu())\n",
    "\n",
    "        logits = torch.cat(all_logits).numpy()\n",
    "        labels = torch.cat(all_labels).numpy()\n",
    "\n",
    "        results = compute_metrics((logits, labels))\n",
    "        print_metrics(results)\n",
    "\n",
    "    def on_train_end(self, args, state, control, **kwargs):\n",
    "        print(\"\\n🏁 Training complete!\")"
   ]
  },
  {
   "cell_type": "markdown",
   "metadata": {},
   "source": [
    "### Model and Trainer Setpup"
   ]
  },
  {
   "cell_type": "code",
   "execution_count": 10,
   "metadata": {},
   "outputs": [
    {
     "name": "stderr",
     "output_type": "stream",
     "text": [
      "Some weights of DistilBertForSequenceClassification were not initialized from the model checkpoint at distilbert-base-uncased and are newly initialized: ['classifier.bias', 'classifier.weight', 'pre_classifier.bias', 'pre_classifier.weight']\n",
      "You should probably TRAIN this model on a down-stream task to be able to use it for predictions and inference.\n",
      "/tmp/ipykernel_4865/2844767395.py:25: FutureWarning: `tokenizer` is deprecated and will be removed in version 5.0.0 for `Trainer.__init__`. Use `processing_class` instead.\n",
      "  trainer = Trainer(\n"
     ]
    }
   ],
   "source": [
    "from math import ceil\n",
    "model = DistilBertForSequenceClassification.from_pretrained(CHECKPOINT, num_labels=5).to(device)\n",
    "\n",
    "args = TrainingArguments(\n",
    "    output_dir=OUTPUT_DIR,\n",
    "    load_best_model_at_end=True,\n",
    "    do_eval=True,\n",
    "    eval_strategy=\"epoch\",  \n",
    "    save_strategy=\"epoch\",\n",
    "    learning_rate=LEARNING_RATE,\n",
    "    per_device_train_batch_size=TRAIN_BATCH_SIZE,\n",
    "    per_device_eval_batch_size=EVAL_BATCH_SIZE,\n",
    "    num_train_epochs=EPOCHS,\n",
    "    weight_decay=WEIGHT_DECAY,\n",
    "    metric_for_best_model=\"macro_f1\",  \n",
    "    logging_dir=\"sentiment_analysis/logs\",\n",
    "    report_to=\"none\",\n",
    "    fp16=True,\n",
    "    logging_steps = int(0.05 * ((len(train_ds) // TRAIN_BATCH_SIZE) * EPOCHS)), # log every 5% of training\n",
    "    save_total_limit=2,      \n",
    "    lr_scheduler_type=\"linear\",     \n",
    "    warmup_steps = ceil(0.1 * (len(train_ds) / TRAIN_BATCH_SIZE) * EPOCHS)\n",
    ")\n",
    "\n",
    "trainer = Trainer(\n",
    "    model=model,\n",
    "    args=args,\n",
    "    train_dataset=train_ds,\n",
    "    eval_dataset=val_ds,\n",
    "    tokenizer=tokenizer,\n",
    "    data_collator=DataCollatorWithPadding(tokenizer),\n",
    "    compute_metrics=compute_metrics,\n",
    "    callbacks=[VerboseCallback(model, val_ds)]\n",
    ")"
   ]
  },
  {
   "cell_type": "markdown",
   "metadata": {},
   "source": [
    "### Training and Evaluation"
   ]
  },
  {
   "cell_type": "code",
   "execution_count": 11,
   "metadata": {},
   "outputs": [
    {
     "name": "stdout",
     "output_type": "stream",
     "text": [
      "Starting training...\n",
      "\n",
      "🔁 Epoch 1 started...\n"
     ]
    },
    {
     "data": {
      "text/html": [
       "\n",
       "    <div>\n",
       "      \n",
       "      <progress value='3340' max='3340' style='width:300px; height:20px; vertical-align: middle;'></progress>\n",
       "      [3340/3340 05:52, Epoch 5/5]\n",
       "    </div>\n",
       "    <table border=\"1\" class=\"dataframe\">\n",
       "  <thead>\n",
       " <tr style=\"text-align: left;\">\n",
       "      <th>Epoch</th>\n",
       "      <th>Training Loss</th>\n",
       "      <th>Validation Loss</th>\n",
       "      <th>Accuracy</th>\n",
       "      <th>Macro Precision</th>\n",
       "      <th>Macro Recall</th>\n",
       "      <th>Macro F1</th>\n",
       "      <th>Weighted Precision</th>\n",
       "      <th>Weighted Recall</th>\n",
       "      <th>Weighted F1</th>\n",
       "      <th>Rating 1 F1</th>\n",
       "      <th>Rating 1 Precision</th>\n",
       "      <th>Rating 1 Recall</th>\n",
       "      <th>Rating 2 F1</th>\n",
       "      <th>Rating 2 Precision</th>\n",
       "      <th>Rating 2 Recall</th>\n",
       "      <th>Rating 3 F1</th>\n",
       "      <th>Rating 3 Precision</th>\n",
       "      <th>Rating 3 Recall</th>\n",
       "      <th>Rating 4 F1</th>\n",
       "      <th>Rating 4 Precision</th>\n",
       "      <th>Rating 4 Recall</th>\n",
       "      <th>Rating 5 F1</th>\n",
       "      <th>Rating 5 Precision</th>\n",
       "      <th>Rating 5 Recall</th>\n",
       "    </tr>\n",
       "  </thead>\n",
       "  <tbody>\n",
       "    <tr>\n",
       "      <td>1</td>\n",
       "      <td>0.819800</td>\n",
       "      <td>0.789917</td>\n",
       "      <td>0.646409</td>\n",
       "      <td>0.605086</td>\n",
       "      <td>0.587577</td>\n",
       "      <td>0.591373</td>\n",
       "      <td>0.633966</td>\n",
       "      <td>0.646409</td>\n",
       "      <td>0.635147</td>\n",
       "      <td>0.713467</td>\n",
       "      <td>0.679400</td>\n",
       "      <td>0.751131</td>\n",
       "      <td>0.419281</td>\n",
       "      <td>0.477352</td>\n",
       "      <td>0.373806</td>\n",
       "      <td>0.492611</td>\n",
       "      <td>0.562284</td>\n",
       "      <td>0.438301</td>\n",
       "      <td>0.556996</td>\n",
       "      <td>0.596769</td>\n",
       "      <td>0.522194</td>\n",
       "      <td>0.774510</td>\n",
       "      <td>0.709627</td>\n",
       "      <td>0.852451</td>\n",
       "    </tr>\n",
       "    <tr>\n",
       "      <td>2</td>\n",
       "      <td>0.754300</td>\n",
       "      <td>0.746292</td>\n",
       "      <td>0.669445</td>\n",
       "      <td>0.626945</td>\n",
       "      <td>0.624896</td>\n",
       "      <td>0.621912</td>\n",
       "      <td>0.662495</td>\n",
       "      <td>0.669445</td>\n",
       "      <td>0.663197</td>\n",
       "      <td>0.734177</td>\n",
       "      <td>0.687747</td>\n",
       "      <td>0.787330</td>\n",
       "      <td>0.433888</td>\n",
       "      <td>0.516981</td>\n",
       "      <td>0.373806</td>\n",
       "      <td>0.564590</td>\n",
       "      <td>0.549458</td>\n",
       "      <td>0.580580</td>\n",
       "      <td>0.591677</td>\n",
       "      <td>0.633926</td>\n",
       "      <td>0.554707</td>\n",
       "      <td>0.785230</td>\n",
       "      <td>0.746616</td>\n",
       "      <td>0.828055</td>\n",
       "    </tr>\n",
       "    <tr>\n",
       "      <td>3</td>\n",
       "      <td>0.711300</td>\n",
       "      <td>0.729012</td>\n",
       "      <td>0.678153</td>\n",
       "      <td>0.640878</td>\n",
       "      <td>0.627101</td>\n",
       "      <td>0.632592</td>\n",
       "      <td>0.676467</td>\n",
       "      <td>0.678153</td>\n",
       "      <td>0.676651</td>\n",
       "      <td>0.734664</td>\n",
       "      <td>0.720290</td>\n",
       "      <td>0.749623</td>\n",
       "      <td>0.453374</td>\n",
       "      <td>0.510239</td>\n",
       "      <td>0.407913</td>\n",
       "      <td>0.558172</td>\n",
       "      <td>0.573665</td>\n",
       "      <td>0.543493</td>\n",
       "      <td>0.634768</td>\n",
       "      <td>0.616183</td>\n",
       "      <td>0.654509</td>\n",
       "      <td>0.781985</td>\n",
       "      <td>0.784013</td>\n",
       "      <td>0.779967</td>\n",
       "    </tr>\n",
       "    <tr>\n",
       "      <td>4</td>\n",
       "      <td>0.694100</td>\n",
       "      <td>0.728468</td>\n",
       "      <td>0.679090</td>\n",
       "      <td>0.641347</td>\n",
       "      <td>0.629525</td>\n",
       "      <td>0.634728</td>\n",
       "      <td>0.673778</td>\n",
       "      <td>0.679090</td>\n",
       "      <td>0.675778</td>\n",
       "      <td>0.737791</td>\n",
       "      <td>0.735030</td>\n",
       "      <td>0.740573</td>\n",
       "      <td>0.468975</td>\n",
       "      <td>0.497703</td>\n",
       "      <td>0.443383</td>\n",
       "      <td>0.557814</td>\n",
       "      <td>0.580598</td>\n",
       "      <td>0.536750</td>\n",
       "      <td>0.620293</td>\n",
       "      <td>0.630810</td>\n",
       "      <td>0.610122</td>\n",
       "      <td>0.788764</td>\n",
       "      <td>0.762593</td>\n",
       "      <td>0.816796</td>\n",
       "    </tr>\n",
       "    <tr>\n",
       "      <td>5</td>\n",
       "      <td>0.672200</td>\n",
       "      <td>0.728373</td>\n",
       "      <td>0.680401</td>\n",
       "      <td>0.645162</td>\n",
       "      <td>0.628688</td>\n",
       "      <td>0.636320</td>\n",
       "      <td>0.676749</td>\n",
       "      <td>0.680401</td>\n",
       "      <td>0.678226</td>\n",
       "      <td>0.735632</td>\n",
       "      <td>0.747664</td>\n",
       "      <td>0.723982</td>\n",
       "      <td>0.471273</td>\n",
       "      <td>0.504673</td>\n",
       "      <td>0.442019</td>\n",
       "      <td>0.558365</td>\n",
       "      <td>0.574074</td>\n",
       "      <td>0.543493</td>\n",
       "      <td>0.628458</td>\n",
       "      <td>0.627573</td>\n",
       "      <td>0.629347</td>\n",
       "      <td>0.787872</td>\n",
       "      <td>0.771827</td>\n",
       "      <td>0.804598</td>\n",
       "    </tr>\n",
       "  </tbody>\n",
       "</table><p>"
      ],
      "text/plain": [
       "<IPython.core.display.HTML object>"
      ]
     },
     "metadata": {},
     "output_type": "display_data"
    },
    {
     "name": "stdout",
     "output_type": "stream",
     "text": [
      "\n",
      "📊 Evaluation after epoch 1:\n",
      "\n",
      "\u001b[1m📊 Model Evaluation Metrics:\u001b[0m\n",
      "╒════════════════════╤═════════╕\n",
      "│ Metric             │   Value │\n",
      "╞════════════════════╪═════════╡\n",
      "│ Accuracy           │  0.6464 │\n",
      "├────────────────────┼─────────┤\n",
      "│ Macro Precision    │  0.6051 │\n",
      "├────────────────────┼─────────┤\n",
      "│ Macro Recall       │  0.5876 │\n",
      "├────────────────────┼─────────┤\n",
      "│ Macro F1           │  0.5914 │\n",
      "├────────────────────┼─────────┤\n",
      "│ Weighted Precision │  0.634  │\n",
      "├────────────────────┼─────────┤\n",
      "│ Weighted Recall    │  0.6464 │\n",
      "├────────────────────┼─────────┤\n",
      "│ Weighted F1        │  0.6351 │\n",
      "╘════════════════════╧═════════╛\n",
      "\n",
      "\u001b[1m📊 Per-Class Metrics:\u001b[0m\n",
      "╒══════════╤════════════╤═════════════╤══════════╕\n",
      "│   Rating │   F1-Score │   Precision │   Recall │\n",
      "╞══════════╪════════════╪═════════════╪══════════╡\n",
      "│        1 │     0.7135 │      0.6794 │   0.7511 │\n",
      "├──────────┼────────────┼─────────────┼──────────┤\n",
      "│        2 │     0.4193 │      0.4774 │   0.3738 │\n",
      "├──────────┼────────────┼─────────────┼──────────┤\n",
      "│        3 │     0.4926 │      0.5623 │   0.4383 │\n",
      "├──────────┼────────────┼─────────────┼──────────┤\n",
      "│        4 │     0.557  │      0.5968 │   0.5222 │\n",
      "├──────────┼────────────┼─────────────┼──────────┤\n",
      "│        5 │     0.7745 │      0.7096 │   0.8525 │\n",
      "╘══════════╧════════════╧═════════════╧══════════╛\n",
      "\n",
      "🔁 Epoch 2 started...\n",
      "\n",
      "📊 Evaluation after epoch 2:\n",
      "\n",
      "\u001b[1m📊 Model Evaluation Metrics:\u001b[0m\n",
      "╒════════════════════╤═════════╕\n",
      "│ Metric             │   Value │\n",
      "╞════════════════════╪═════════╡\n",
      "│ Accuracy           │  0.6694 │\n",
      "├────────────────────┼─────────┤\n",
      "│ Macro Precision    │  0.6269 │\n",
      "├────────────────────┼─────────┤\n",
      "│ Macro Recall       │  0.6249 │\n",
      "├────────────────────┼─────────┤\n",
      "│ Macro F1           │  0.6219 │\n",
      "├────────────────────┼─────────┤\n",
      "│ Weighted Precision │  0.6625 │\n",
      "├────────────────────┼─────────┤\n",
      "│ Weighted Recall    │  0.6694 │\n",
      "├────────────────────┼─────────┤\n",
      "│ Weighted F1        │  0.6632 │\n",
      "╘════════════════════╧═════════╛\n",
      "\n",
      "\u001b[1m📊 Per-Class Metrics:\u001b[0m\n",
      "╒══════════╤════════════╤═════════════╤══════════╕\n",
      "│   Rating │   F1-Score │   Precision │   Recall │\n",
      "╞══════════╪════════════╪═════════════╪══════════╡\n",
      "│        1 │     0.7342 │      0.6877 │   0.7873 │\n",
      "├──────────┼────────────┼─────────────┼──────────┤\n",
      "│        2 │     0.4339 │      0.517  │   0.3738 │\n",
      "├──────────┼────────────┼─────────────┼──────────┤\n",
      "│        3 │     0.5646 │      0.5495 │   0.5806 │\n",
      "├──────────┼────────────┼─────────────┼──────────┤\n",
      "│        4 │     0.5917 │      0.6339 │   0.5547 │\n",
      "├──────────┼────────────┼─────────────┼──────────┤\n",
      "│        5 │     0.7852 │      0.7466 │   0.8281 │\n",
      "╘══════════╧════════════╧═════════════╧══════════╛\n",
      "\n",
      "🔁 Epoch 3 started...\n",
      "\n",
      "📊 Evaluation after epoch 3:\n",
      "\n",
      "\u001b[1m📊 Model Evaluation Metrics:\u001b[0m\n",
      "╒════════════════════╤═════════╕\n",
      "│ Metric             │   Value │\n",
      "╞════════════════════╪═════════╡\n",
      "│ Accuracy           │  0.6782 │\n",
      "├────────────────────┼─────────┤\n",
      "│ Macro Precision    │  0.6409 │\n",
      "├────────────────────┼─────────┤\n",
      "│ Macro Recall       │  0.6271 │\n",
      "├────────────────────┼─────────┤\n",
      "│ Macro F1           │  0.6326 │\n",
      "├────────────────────┼─────────┤\n",
      "│ Weighted Precision │  0.6765 │\n",
      "├────────────────────┼─────────┤\n",
      "│ Weighted Recall    │  0.6782 │\n",
      "├────────────────────┼─────────┤\n",
      "│ Weighted F1        │  0.6767 │\n",
      "╘════════════════════╧═════════╛\n",
      "\n",
      "\u001b[1m📊 Per-Class Metrics:\u001b[0m\n",
      "╒══════════╤════════════╤═════════════╤══════════╕\n",
      "│   Rating │   F1-Score │   Precision │   Recall │\n",
      "╞══════════╪════════════╪═════════════╪══════════╡\n",
      "│        1 │     0.7347 │      0.7203 │   0.7496 │\n",
      "├──────────┼────────────┼─────────────┼──────────┤\n",
      "│        2 │     0.4534 │      0.5102 │   0.4079 │\n",
      "├──────────┼────────────┼─────────────┼──────────┤\n",
      "│        3 │     0.5582 │      0.5737 │   0.5435 │\n",
      "├──────────┼────────────┼─────────────┼──────────┤\n",
      "│        4 │     0.6348 │      0.6162 │   0.6545 │\n",
      "├──────────┼────────────┼─────────────┼──────────┤\n",
      "│        5 │     0.782  │      0.784  │   0.78   │\n",
      "╘══════════╧════════════╧═════════════╧══════════╛\n",
      "\n",
      "🔁 Epoch 4 started...\n",
      "\n",
      "📊 Evaluation after epoch 4:\n",
      "\n",
      "\u001b[1m📊 Model Evaluation Metrics:\u001b[0m\n",
      "╒════════════════════╤═════════╕\n",
      "│ Metric             │   Value │\n",
      "╞════════════════════╪═════════╡\n",
      "│ Accuracy           │  0.6791 │\n",
      "├────────────────────┼─────────┤\n",
      "│ Macro Precision    │  0.6413 │\n",
      "├────────────────────┼─────────┤\n",
      "│ Macro Recall       │  0.6295 │\n",
      "├────────────────────┼─────────┤\n",
      "│ Macro F1           │  0.6347 │\n",
      "├────────────────────┼─────────┤\n",
      "│ Weighted Precision │  0.6738 │\n",
      "├────────────────────┼─────────┤\n",
      "│ Weighted Recall    │  0.6791 │\n",
      "├────────────────────┼─────────┤\n",
      "│ Weighted F1        │  0.6758 │\n",
      "╘════════════════════╧═════════╛\n",
      "\n",
      "\u001b[1m📊 Per-Class Metrics:\u001b[0m\n",
      "╒══════════╤════════════╤═════════════╤══════════╕\n",
      "│   Rating │   F1-Score │   Precision │   Recall │\n",
      "╞══════════╪════════════╪═════════════╪══════════╡\n",
      "│        1 │     0.7378 │      0.735  │   0.7406 │\n",
      "├──────────┼────────────┼─────────────┼──────────┤\n",
      "│        2 │     0.469  │      0.4977 │   0.4434 │\n",
      "├──────────┼────────────┼─────────────┼──────────┤\n",
      "│        3 │     0.5578 │      0.5806 │   0.5367 │\n",
      "├──────────┼────────────┼─────────────┼──────────┤\n",
      "│        4 │     0.6203 │      0.6308 │   0.6101 │\n",
      "├──────────┼────────────┼─────────────┼──────────┤\n",
      "│        5 │     0.7888 │      0.7626 │   0.8168 │\n",
      "╘══════════╧════════════╧═════════════╧══════════╛\n",
      "\n",
      "🔁 Epoch 5 started...\n",
      "\n",
      "📊 Evaluation after epoch 5:\n",
      "\n",
      "\u001b[1m📊 Model Evaluation Metrics:\u001b[0m\n",
      "╒════════════════════╤═════════╕\n",
      "│ Metric             │   Value │\n",
      "╞════════════════════╪═════════╡\n",
      "│ Accuracy           │  0.6804 │\n",
      "├────────────────────┼─────────┤\n",
      "│ Macro Precision    │  0.6452 │\n",
      "├────────────────────┼─────────┤\n",
      "│ Macro Recall       │  0.6287 │\n",
      "├────────────────────┼─────────┤\n",
      "│ Macro F1           │  0.6363 │\n",
      "├────────────────────┼─────────┤\n",
      "│ Weighted Precision │  0.6767 │\n",
      "├────────────────────┼─────────┤\n",
      "│ Weighted Recall    │  0.6804 │\n",
      "├────────────────────┼─────────┤\n",
      "│ Weighted F1        │  0.6782 │\n",
      "╘════════════════════╧═════════╛\n",
      "\n",
      "\u001b[1m📊 Per-Class Metrics:\u001b[0m\n",
      "╒══════════╤════════════╤═════════════╤══════════╕\n",
      "│   Rating │   F1-Score │   Precision │   Recall │\n",
      "╞══════════╪════════════╪═════════════╪══════════╡\n",
      "│        1 │     0.7356 │      0.7477 │   0.724  │\n",
      "├──────────┼────────────┼─────────────┼──────────┤\n",
      "│        2 │     0.4713 │      0.5047 │   0.442  │\n",
      "├──────────┼────────────┼─────────────┼──────────┤\n",
      "│        3 │     0.5584 │      0.5741 │   0.5435 │\n",
      "├──────────┼────────────┼─────────────┼──────────┤\n",
      "│        4 │     0.6285 │      0.6276 │   0.6293 │\n",
      "├──────────┼────────────┼─────────────┼──────────┤\n",
      "│        5 │     0.7879 │      0.7718 │   0.8046 │\n",
      "╘══════════╧════════════╧═════════════╧══════════╛\n",
      "\n",
      "🏁 Training complete!\n"
     ]
    },
    {
     "data": {
      "text/plain": [
       "TrainOutput(global_step=3340, training_loss=0.7722265757486492, metrics={'train_runtime': 352.6705, 'train_samples_per_second': 1211.216, 'train_steps_per_second': 9.471, 'total_flos': 1.41469503343104e+16, 'train_loss': 0.7722265757486492, 'epoch': 5.0})"
      ]
     },
     "execution_count": 11,
     "metadata": {},
     "output_type": "execute_result"
    }
   ],
   "source": [
    "print(\"Starting training...\")\n",
    "trainer.train()"
   ]
  },
  {
   "cell_type": "code",
   "execution_count": 12,
   "metadata": {},
   "outputs": [
    {
     "name": "stdout",
     "output_type": "stream",
     "text": [
      "\n",
      "Final Evaluation on Test Set:\n"
     ]
    },
    {
     "data": {
      "text/html": [
       "\n",
       "    <div>\n",
       "      \n",
       "      <progress value='84' max='84' style='width:300px; height:20px; vertical-align: middle;'></progress>\n",
       "      [84/84 00:02]\n",
       "    </div>\n",
       "    "
      ],
      "text/plain": [
       "<IPython.core.display.HTML object>"
      ]
     },
     "metadata": {},
     "output_type": "display_data"
    },
    {
     "name": "stdout",
     "output_type": "stream",
     "text": [
      "\n",
      "📊 Evaluation after epoch 5:\n",
      "\n",
      "\u001b[1m📊 Model Evaluation Metrics:\u001b[0m\n",
      "╒════════════════════╤═════════╕\n",
      "│ Metric             │   Value │\n",
      "╞════════════════════╪═════════╡\n",
      "│ Accuracy           │  0.6804 │\n",
      "├────────────────────┼─────────┤\n",
      "│ Macro Precision    │  0.6452 │\n",
      "├────────────────────┼─────────┤\n",
      "│ Macro Recall       │  0.6287 │\n",
      "├────────────────────┼─────────┤\n",
      "│ Macro F1           │  0.6363 │\n",
      "├────────────────────┼─────────┤\n",
      "│ Weighted Precision │  0.6767 │\n",
      "├────────────────────┼─────────┤\n",
      "│ Weighted Recall    │  0.6804 │\n",
      "├────────────────────┼─────────┤\n",
      "│ Weighted F1        │  0.6782 │\n",
      "╘════════════════════╧═════════╛\n",
      "\n",
      "\u001b[1m📊 Per-Class Metrics:\u001b[0m\n",
      "╒══════════╤════════════╤═════════════╤══════════╕\n",
      "│   Rating │   F1-Score │   Precision │   Recall │\n",
      "╞══════════╪════════════╪═════════════╪══════════╡\n",
      "│        1 │     0.7356 │      0.7477 │   0.724  │\n",
      "├──────────┼────────────┼─────────────┼──────────┤\n",
      "│        2 │     0.4713 │      0.5047 │   0.442  │\n",
      "├──────────┼────────────┼─────────────┼──────────┤\n",
      "│        3 │     0.5584 │      0.5741 │   0.5435 │\n",
      "├──────────┼────────────┼─────────────┼──────────┤\n",
      "│        4 │     0.6285 │      0.6276 │   0.6293 │\n",
      "├──────────┼────────────┼─────────────┼──────────┤\n",
      "│        5 │     0.7879 │      0.7718 │   0.8046 │\n",
      "╘══════════╧════════════╧═════════════╧══════════╛\n",
      "{'eval_loss': 0.7306673526763916, 'eval_accuracy': 0.6781533851484222, 'eval_macro_precision': 0.6370522555286959, 'eval_macro_recall': 0.6185199119492115, 'eval_macro_f1': 0.6270078419789712, 'eval_weighted_precision': 0.6755857593993155, 'eval_weighted_recall': 0.6781533851484222, 'eval_weighted_f1': 0.676404881973305, 'eval_rating_1_f1': 0.7019230769230769, 'eval_rating_1_precision': 0.7487179487179487, 'eval_rating_1_recall': 0.6606334841628959, 'eval_rating_2_f1': 0.4641638225255973, 'eval_rating_2_precision': 0.4638472032742155, 'eval_rating_2_recall': 0.4644808743169399, 'eval_rating_3_f1': 0.5452646239554317, 'eval_rating_3_precision': 0.5641210374639769, 'eval_rating_3_recall': 0.5276280323450134, 'eval_rating_4_f1': 0.6338408993880745, 'eval_rating_4_precision': 0.63810888252149, 'eval_rating_4_recall': 0.6296296296296297, 'eval_rating_5_f1': 0.7898467871026755, 'eval_rating_5_precision': 0.7704662056658488, 'eval_rating_5_recall': 0.8102275392915786, 'eval_runtime': 2.4456, 'eval_samples_per_second': 4366.603, 'eval_steps_per_second': 34.347, 'epoch': 5.0}\n"
     ]
    }
   ],
   "source": [
    "print(\"\\nFinal Evaluation on Test Set:\")\n",
    "print(trainer.evaluate(test_ds))"
   ]
  },
  {
   "cell_type": "code",
   "execution_count": 21,
   "metadata": {},
   "outputs": [
    {
     "data": {
      "text/html": [
       "\n",
       "    <div>\n",
       "      \n",
       "      <progress value='1' max='84' style='width:300px; height:20px; vertical-align: middle;'></progress>\n",
       "      [ 1/84 : < :]\n",
       "    </div>\n",
       "    "
      ],
      "text/plain": [
       "<IPython.core.display.HTML object>"
      ]
     },
     "metadata": {},
     "output_type": "display_data"
    },
    {
     "data": {
      "image/png": "[encoded data removed]",
      "text/plain": [
       "<Figure size 640x480 with 2 Axes>"
      ]
     },
     "metadata": {},
     "output_type": "display_data"
    },
    {
     "data": {
      "image/png": "[encoded data removed]",
      "text/plain": [
       "<Figure size 640x480 with 2 Axes>"
      ]
     },
     "metadata": {},
     "output_type": "display_data"
    }
   ],
   "source": [
    "import pandas as pd\n",
    "import numpy as np\n",
    "import torch\n",
    "from sklearn.metrics import confusion_matrix, ConfusionMatrixDisplay\n",
    "import matplotlib.pyplot as plt\n",
    "\n",
    "pred_output = trainer.predict(test_ds)\n",
    "preds = np.argmax(pred_output.predictions, axis=1)  # predicted class (0–4)\n",
    "\n",
    "test_df = pd.read_csv(\"rating_classification/rating_test.csv\")  # update path if needed\n",
    "true_labels = test_df[\"labels\"].astype(int).values  # ground truth (also 0–4)\n",
    "\n",
    "# Compute confusion matrix\n",
    "cm = confusion_matrix(true_labels, preds, labels=[0, 1, 2, 3, 4])\n",
    "\n",
    "# Display\n",
    "disp = ConfusionMatrixDisplay(confusion_matrix=cm, display_labels=[1, 2, 3, 4, 5])\n",
    "disp.plot(cmap='Blues', values_format='d', xticks_rotation=0)\n",
    "\n",
    "plt.title(\"Confusion Matrix - Rating Prediction (1 to 5)\")\n",
    "plt.xlabel(\"Predicted Rating\")\n",
    "plt.ylabel(\"True Rating\")\n",
    "plt.tight_layout()\n",
    "plt.show()\n",
    "\n",
    "cm = confusion_matrix(true_labels, preds, labels=[0, 1, 2, 3, 4])\n",
    "cm_normalized = cm.astype(\"float\") / cm.sum(axis=1)[:, np.newaxis]\n",
    "\n",
    "# plt.figure(figsize=(8, 6))\n",
    "sns.heatmap(cm_normalized, annot=True, fmt=\".2f\", cmap=\"Blues\", xticklabels=[1, 2, 3, 4, 5], yticklabels=[1, 2, 3, 4, 5])\n",
    "plt.title(\"Normalized Confusion Matrix - Rating Prediction (1 to 5)\")\n",
    "plt.xlabel(\"Predicted Rating\")\n",
    "plt.ylabel(\"True Rating\")\n",
    "plt.tight_layout()\n",
    "plt.show()"
   ]
  },
  {
   "cell_type": "code",
   "execution_count": 22,
   "metadata": {},
   "outputs": [
    {
     "name": "stdout",
     "output_type": "stream",
     "text": [
      "\n",
      "✅ Saved training logs to 'training_logs.csv'\n"
     ]
    },
    {
     "data": {
      "text/html": [],
      "text/plain": [
       "<IPython.core.display.HTML object>"
      ]
     },
     "metadata": {},
     "output_type": "display_data"
    },
    {
     "name": "stdout",
     "output_type": "stream",
     "text": [
      "\n",
      "✅ Saved test predictions to 'test_predictions.csv'\n"
     ]
    }
   ],
   "source": [
    "import pandas as pd\n",
    "import numpy as np\n",
    "\n",
    "trainer.save_model(\"rating_classification/model\")\n",
    "tokenizer.save_pretrained(\"rating_classification/model\")\n",
    "\n",
    "log_history = trainer.state.log_history\n",
    "log_df = pd.DataFrame(log_history)\n",
    "log_df.to_csv(\"rating_classification/training_logs.csv\", index=False)\n",
    "print(\"\\n✅ Saved training logs to 'training_logs.csv'\")\n",
    "\n",
    "preds_output = trainer.predict(test_ds)\n",
    "preds = np.argmax(preds_output.predictions, axis=1)  # 0–4 classes\n",
    "\n",
    "predicted_ratings = preds + 1\n",
    "\n",
    "test_df = pd.read_csv(\"rating_classification/rating_test.csv\")  # Reload original to get true labels\n",
    "test_df[\"predicted_rating\"] = predicted_ratings\n",
    "\n",
    "# Save results\n",
    "test_df.to_csv(\"rating_classification/test_predictions.csv\", index=False)\n",
    "print(\"\\n✅ Saved test predictions to 'test_predictions.csv'\")"
   ]
  },
  {
   "cell_type": "markdown",
   "metadata": {},
   "source": [
    "### Inference Testing"
   ]
  },
  {
   "cell_type": "code",
   "execution_count": null,
   "metadata": {},
   "outputs": [],
   "source": [
    "import torch\n",
    "from transformers import DistilBertForSequenceClassification, DistilBertTokenizerFast\n",
    "import numpy as np\n",
    "\n",
    "model_path = \"rating_classification/model\"  \n",
    "model = DistilBertForSequenceClassification.from_pretrained(model_path)\n",
    "tokenizer = DistilBertTokenizerFast.from_pretrained(model_path)\n",
    "model.eval()\n",
    "\n",
    "# Use GPU if available\n",
    "device = torch.device(\"cuda\" if torch.cuda.is_available() else \"cpu\")\n",
    "model.to(device)\n",
    "\n",
    "def predict_rating(text):\n",
    "\n",
    "    inputs = tokenizer(text, return_tensors=\"pt\", truncation=True, padding=True, max_length=512).to(device)\n",
    "\n",
    "    with torch.no_grad():\n",
    "        outputs = model(**inputs)\n",
    "        logits = outputs.logits\n",
    "        predicted_class = torch.argmax(logits, dim=1).item()\n",
    "\n",
    "    predicted_rating = predicted_class + 1\n",
    "\n",
    "    print(f\"\\n📝 Input: {text[:100]}{'...' if len(text) > 100 else ''}\")\n",
    "    print(f\"⭐ Predicted Rating: {predicted_rating} (class {predicted_class})\")\n",
    "\n",
    "    return predicted_rating"
   ]
  },
  {
   "cell_type": "code",
   "execution_count": 24,
   "metadata": {},
   "outputs": [
    {
     "name": "stdout",
     "output_type": "stream",
     "text": [
      "\n",
      "📝 Input: This hotel had an amazing location and the staff were incredibly helpful. Loved the breakfast too!\n",
      "⭐ Predicted Rating: 5 (class 4)\n"
     ]
    },
    {
     "data": {
      "text/plain": [
       "5"
      ]
     },
     "execution_count": 24,
     "metadata": {},
     "output_type": "execute_result"
    }
   ],
   "source": [
    "text = \"This hotel had an amazing location and the staff were incredibly helpful. Loved the breakfast too!\"\n",
    "predict_rating(text)"
   ]
  }
 ],
 "metadata": {
  "kernelspec": {
   "display_name": "chiranjan",
   "language": "python",
   "name": "python3"
  },
  "language_info": {
   "codemirror_mode": {
    "name": "ipython",
    "version": 3
   },
   "file_extension": ".py",
   "mimetype": "text/x-python",
   "name": "python",
   "nbconvert_exporter": "python",
   "pygments_lexer": "ipython3",
   "version": "3.12.3"
  }
 },
 "nbformat": 4,
 "nbformat_minor": 2
}
